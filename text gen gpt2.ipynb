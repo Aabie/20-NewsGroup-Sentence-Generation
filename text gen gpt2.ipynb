{
 "cells": [
  {
   "cell_type": "code",
   "execution_count": 1,
   "metadata": {},
   "outputs": [
    {
     "name": "stderr",
     "output_type": "stream",
     "text": [
      "c:\\Users\\Axioo Pongo\\anaconda3\\envs\\Stable\\lib\\site-packages\\tqdm\\auto.py:21: TqdmWarning: IProgress not found. Please update jupyter and ipywidgets. See https://ipywidgets.readthedocs.io/en/stable/user_install.html\n",
      "  from .autonotebook import tqdm as notebook_tqdm\n"
     ]
    }
   ],
   "source": [
    "import pandas as pd\n",
    "import seaborn as sns\n",
    "import numpy as np\n",
    "import re\n",
    "import matplotlib.pyplot as plt\n",
    "import string\n",
    "import torch\n",
    "from torch.utils.data import Dataset, DataLoader, random_split, RandomSampler, SequentialSampler\n",
    "torch.manual_seed(42)\n",
    "\n",
    "from transformers import AutoTokenizer, AutoModelForCausalLM, AutoConfig\n",
    "\n",
    "df = pd.read_csv('20newsgroups.csv', names=['Text','Label'], skiprows=1)"
   ]
  },
  {
   "cell_type": "code",
   "execution_count": 2,
   "metadata": {},
   "outputs": [
    {
     "data": {
      "text/html": [
       "<div>\n",
       "<style scoped>\n",
       "    .dataframe tbody tr th:only-of-type {\n",
       "        vertical-align: middle;\n",
       "    }\n",
       "\n",
       "    .dataframe tbody tr th {\n",
       "        vertical-align: top;\n",
       "    }\n",
       "\n",
       "    .dataframe thead th {\n",
       "        text-align: right;\n",
       "    }\n",
       "</style>\n",
       "<table border=\"1\" class=\"dataframe\">\n",
       "  <thead>\n",
       "    <tr style=\"text-align: right;\">\n",
       "      <th></th>\n",
       "      <th>Text</th>\n",
       "      <th>Label</th>\n",
       "    </tr>\n",
       "  </thead>\n",
       "  <tbody>\n",
       "    <tr>\n",
       "      <th>0</th>\n",
       "      <td>From: Mamatha Devineni Ratnam &lt;mr47+@andrew.cm...</td>\n",
       "      <td>10</td>\n",
       "    </tr>\n",
       "    <tr>\n",
       "      <th>1</th>\n",
       "      <td>From: mblawson@midway.ecn.uoknor.edu (Matthew ...</td>\n",
       "      <td>3</td>\n",
       "    </tr>\n",
       "    <tr>\n",
       "      <th>2</th>\n",
       "      <td>From: hilmi-er@dsv.su.se (Hilmi Eren)\\nSubject...</td>\n",
       "      <td>17</td>\n",
       "    </tr>\n",
       "    <tr>\n",
       "      <th>3</th>\n",
       "      <td>From: guyd@austin.ibm.com (Guy Dawson)\\nSubjec...</td>\n",
       "      <td>3</td>\n",
       "    </tr>\n",
       "    <tr>\n",
       "      <th>4</th>\n",
       "      <td>From: Alexander Samuel McDiarmid &lt;am2o+@andrew...</td>\n",
       "      <td>4</td>\n",
       "    </tr>\n",
       "  </tbody>\n",
       "</table>\n",
       "</div>"
      ],
      "text/plain": [
       "                                                Text  Label\n",
       "0  From: Mamatha Devineni Ratnam <mr47+@andrew.cm...     10\n",
       "1  From: mblawson@midway.ecn.uoknor.edu (Matthew ...      3\n",
       "2  From: hilmi-er@dsv.su.se (Hilmi Eren)\\nSubject...     17\n",
       "3  From: guyd@austin.ibm.com (Guy Dawson)\\nSubjec...      3\n",
       "4  From: Alexander Samuel McDiarmid <am2o+@andrew...      4"
      ]
     },
     "execution_count": 2,
     "metadata": {},
     "output_type": "execute_result"
    }
   ],
   "source": [
    "df.head()"
   ]
  },
  {
   "cell_type": "code",
   "execution_count": 3,
   "metadata": {},
   "outputs": [],
   "source": [
    "def simplify_text(email_text):\n",
    "    def extract_body(email_text):\n",
    "        parts = email_text.split('\\n\\n', 1)\n",
    "        if len(parts) > 1:\n",
    "            body = parts[1].strip()\n",
    "            body = re.split(r'\\n--', body, maxsplit=1)[0].strip()\n",
    "            body = body.replace('\\n', ' ')\n",
    "            return body\n",
    "        return email_text\n",
    "\n",
    "    def remove_before_writes(text):\n",
    "        if \"writes:\" in text:\n",
    "            return text.rsplit(\"writes:\",1)[1].strip()\n",
    "        if \"says:\" in text:\n",
    "            return text.rsplit(\"says:\",1)[1].strip()\n",
    "        if \"wrote:\" in text:\n",
    "            return text.rsplit(\"wrote:\",1)[1].strip()\n",
    "        return text\n",
    "\n",
    "    def remove_before_edu(text):\n",
    "        if \".edu,\" in text:\n",
    "            return text.split(\".edu,\")[1].strip()\n",
    "        return text\n",
    "\n",
    "    def clean_repeated_punctuation_and_spaces(text):\n",
    "        cleaned_text = re.sub(r'([.,!?;:-])\\1+', r'\\1', text)\n",
    "        # Replace multiple spaces with a single space\n",
    "        cleaned_text = re.sub(r'\\s+', ' ', cleaned_text)\n",
    "        # Strip leading and trailing spaces\n",
    "        cleaned_text = cleaned_text.strip()\n",
    "        return cleaned_text\n",
    "    \n",
    "    def remove_punctuation(text):\n",
    "        return text.translate(str.maketrans('', '', string.punctuation.replace('.', '').replace(',', '').replace('?', '').replace('!', '')))\n",
    "\n",
    "    def remove_websites_with_specific_domains(text):\n",
    "        website_pattern = r'\\S+(\\.com|\\.edu|\\.org)\\b|\\bwww\\.\\S+?(\\.com|\\.edu|\\.EDU|\\.org)\\b'\n",
    "        # Menghapus URL dari teks\n",
    "        return re.sub(website_pattern, '', text, flags=re.IGNORECASE).strip()\n",
    "    \n",
    "    def remove_punctuation_start(text):\n",
    "        return re.sub(r'^[^\\w\\s]+', '', text)\n",
    "\n",
    "    email_text = extract_body(email_text)\n",
    "    email_text = remove_before_writes(email_text)\n",
    "    email_text = remove_before_edu(email_text)\n",
    "    email_text = remove_punctuation(email_text)\n",
    "    email_text = clean_repeated_punctuation_and_spaces(email_text)\n",
    "    email_text = remove_websites_with_specific_domains(email_text)\n",
    "    email_text = remove_punctuation_start(email_text)\n",
    "    return email_text\n",
    "\n",
    "# Terapkan fungsi simplify_text ke kolom 'Text'\n",
    "df['Text'] = df['Text'].apply(simplify_text)\n",
    "df = df[df['Text'] != ''].drop(columns=['Label'])"
   ]
  },
  {
   "cell_type": "code",
   "execution_count": 5,
   "metadata": {},
   "outputs": [],
   "source": [
    "# doc_lengths = []\n",
    "\n",
    "# for bio in df['Text']:\n",
    "\n",
    "#     # get rough token count distribution\n",
    "#     tokens = nltk.word_tokenize(bio)\n",
    "\n",
    "#     doc_lengths.append(len(tokens))\n",
    "\n",
    "# doc_lengths = np.array(doc_lengths)\n",
    "\n",
    "# plt.figure(figsize=(15, 4))\n",
    "# sns.histplot(doc_lengths, kde=True)\n",
    "# plt.xlabel('Document Length')\n",
    "# plt.ylabel('Frequency')\n",
    "# plt.title('Distribution of Document Lengths')\n",
    "# plt.show()"
   ]
  },
  {
   "cell_type": "code",
   "execution_count": 6,
   "metadata": {},
   "outputs": [],
   "source": [
    "# len(doc_lengths[doc_lengths > 768])/len(doc_lengths)"
   ]
  },
  {
   "cell_type": "code",
   "execution_count": 7,
   "metadata": {},
   "outputs": [],
   "source": [
    "# doc_lengths.mean()"
   ]
  },
  {
   "cell_type": "code",
   "execution_count": 7,
   "metadata": {},
   "outputs": [
    {
     "name": "stderr",
     "output_type": "stream",
     "text": [
      "Map: 100%|██████████| 18807/18807 [00:03<00:00, 5652.62 examples/s]\n"
     ]
    }
   ],
   "source": [
    "from datasets import Dataset\n",
    "df = Dataset.from_pandas(df)\n",
    "\n",
    "pretrained = 'gpt2'\n",
    "config = AutoConfig.from_pretrained(pretrained)\n",
    "model = AutoModelForCausalLM.from_pretrained(pretrained, config=config)\n",
    "tokenizer = AutoTokenizer.from_pretrained(pretrained)\n",
    "tokenizer.pad_token = tokenizer.eos_token\n",
    "\n",
    "def tokenize_function(examples):\n",
    "    tokenized = tokenizer(\n",
    "        examples[\"Text\"], \n",
    "        padding=\"max_length\", \n",
    "        truncation=True, \n",
    "        max_length=256,\n",
    "        return_tensors=\"pt\" )\n",
    "\n",
    "    tokenized[\"labels\"] = tokenized[\"input_ids\"].clone()\n",
    "\n",
    "    return tokenized\n",
    "\n",
    "# Tokenize the dataset\n",
    "tokenized_dataset = df.map(tokenize_function, batched=True)\n",
    "tokenized_dataset.set_format(type=\"torch\", columns=[\"input_ids\", \"attention_mask\", \"labels\"])"
   ]
  },
  {
   "cell_type": "code",
   "execution_count": 8,
   "metadata": {},
   "outputs": [
    {
     "name": "stdout",
     "output_type": "stream",
     "text": [
      "Train dataset size: 13164\n",
      "Validation dataset size: 3762\n",
      "Test dataset size: 1881\n"
     ]
    }
   ],
   "source": [
    "split_datasets = tokenized_dataset.train_test_split(test_size=0.2, seed=42)\n",
    "\n",
    "train_val_split = split_datasets[\"train\"].train_test_split(test_size=0.125, seed=42)  # 0.125 = 10% dari keseluruhan data\n",
    "\n",
    "train_dataset = train_val_split[\"train\"]\n",
    "val_dataset = split_datasets[\"test\"]\n",
    "test_dataset = train_val_split[\"test\"]\n",
    "\n",
    "print(f\"Train dataset size: {len(train_dataset)}\")\n",
    "print(f\"Validation dataset size: {len(val_dataset)}\")\n",
    "print(f\"Test dataset size: {len(test_dataset)}\")"
   ]
  },
  {
   "cell_type": "code",
   "execution_count": 9,
   "metadata": {},
   "outputs": [
    {
     "name": "stderr",
     "output_type": "stream",
     "text": [
      " 10%|█         | 1097/10970 [05:39<52:17,  3.15it/s]"
     ]
    },
    {
     "name": "stdout",
     "output_type": "stream",
     "text": [
      "{'loss': 2.6699, 'grad_norm': 3.85319185256958, 'learning_rate': 9.006381039197814e-06, 'epoch': 1.0}\n"
     ]
    },
    {
     "name": "stderr",
     "output_type": "stream",
     "text": [
      "                                                    \n",
      " 10%|█         | 1097/10970 [06:42<52:17,  3.15it/s]"
     ]
    },
    {
     "name": "stdout",
     "output_type": "stream",
     "text": [
      "{'eval_loss': 2.4873876571655273, 'eval_runtime': 62.9253, 'eval_samples_per_second': 59.785, 'eval_steps_per_second': 59.785, 'epoch': 1.0}\n"
     ]
    },
    {
     "name": "stderr",
     "output_type": "stream",
     "text": [
      " 20%|██        | 2194/10970 [12:30<46:03,  3.18it/s]   "
     ]
    },
    {
     "name": "stdout",
     "output_type": "stream",
     "text": [
      "{'loss': 2.5495, 'grad_norm': 2.9630701541900635, 'learning_rate': 8.006381039197813e-06, 'epoch': 2.0}\n"
     ]
    },
    {
     "name": "stderr",
     "output_type": "stream",
     "text": [
      "                                                    \n",
      " 20%|██        | 2194/10970 [13:28<46:03,  3.18it/s]"
     ]
    },
    {
     "name": "stdout",
     "output_type": "stream",
     "text": [
      "{'eval_loss': 2.4551479816436768, 'eval_runtime': 57.6695, 'eval_samples_per_second': 65.234, 'eval_steps_per_second': 65.234, 'epoch': 2.0}\n"
     ]
    },
    {
     "name": "stderr",
     "output_type": "stream",
     "text": [
      " 30%|███       | 3291/10970 [19:16<41:06,  3.11it/s]   "
     ]
    },
    {
     "name": "stdout",
     "output_type": "stream",
     "text": [
      "{'loss': 2.5027, 'grad_norm': 3.7646327018737793, 'learning_rate': 7.0063810391978126e-06, 'epoch': 3.0}\n"
     ]
    },
    {
     "name": "stderr",
     "output_type": "stream",
     "text": [
      "                                                    \n",
      " 30%|███       | 3291/10970 [20:07<41:06,  3.11it/s]"
     ]
    },
    {
     "name": "stdout",
     "output_type": "stream",
     "text": [
      "{'eval_loss': 2.434325933456421, 'eval_runtime': 50.8084, 'eval_samples_per_second': 74.043, 'eval_steps_per_second': 74.043, 'epoch': 3.0}\n"
     ]
    },
    {
     "name": "stderr",
     "output_type": "stream",
     "text": [
      " 40%|████      | 4388/10970 [25:56<34:44,  3.16it/s]   "
     ]
    },
    {
     "name": "stdout",
     "output_type": "stream",
     "text": [
      "{'loss': 2.4698, 'grad_norm': 3.5735738277435303, 'learning_rate': 6.006381039197813e-06, 'epoch': 4.0}\n"
     ]
    },
    {
     "name": "stderr",
     "output_type": "stream",
     "text": [
      "                                                    \n",
      " 40%|████      | 4388/10970 [26:48<34:44,  3.16it/s]"
     ]
    },
    {
     "name": "stdout",
     "output_type": "stream",
     "text": [
      "{'eval_loss': 2.4191322326660156, 'eval_runtime': 51.8885, 'eval_samples_per_second': 72.502, 'eval_steps_per_second': 72.502, 'epoch': 4.0}\n"
     ]
    },
    {
     "name": "stderr",
     "output_type": "stream",
     "text": [
      " 50%|█████     | 5485/10970 [32:37<28:45,  3.18it/s]   "
     ]
    },
    {
     "name": "stdout",
     "output_type": "stream",
     "text": [
      "{'loss': 2.4428, 'grad_norm': 3.405158281326294, 'learning_rate': 5.006381039197813e-06, 'epoch': 5.0}\n"
     ]
    },
    {
     "name": "stderr",
     "output_type": "stream",
     "text": [
      "                                                    \n",
      " 50%|█████     | 5485/10970 [33:28<28:45,  3.18it/s]"
     ]
    },
    {
     "name": "stdout",
     "output_type": "stream",
     "text": [
      "{'eval_loss': 2.408226728439331, 'eval_runtime': 50.9576, 'eval_samples_per_second': 73.826, 'eval_steps_per_second': 73.826, 'epoch': 5.0}\n"
     ]
    },
    {
     "name": "stderr",
     "output_type": "stream",
     "text": [
      " 60%|██████    | 6582/10970 [39:15<22:51,  3.20it/s]   "
     ]
    },
    {
     "name": "stdout",
     "output_type": "stream",
     "text": [
      "{'loss': 2.4218, 'grad_norm': 2.710315704345703, 'learning_rate': 4.0063810391978125e-06, 'epoch': 6.0}\n"
     ]
    },
    {
     "name": "stderr",
     "output_type": "stream",
     "text": [
      "                                                    \n",
      " 60%|██████    | 6582/10970 [40:04<22:51,  3.20it/s]"
     ]
    },
    {
     "name": "stdout",
     "output_type": "stream",
     "text": [
      "{'eval_loss': 2.399327278137207, 'eval_runtime': 49.0646, 'eval_samples_per_second': 76.674, 'eval_steps_per_second': 76.674, 'epoch': 6.0}\n"
     ]
    },
    {
     "name": "stderr",
     "output_type": "stream",
     "text": [
      " 70%|███████   | 7679/10970 [45:52<17:15,  3.18it/s]   "
     ]
    },
    {
     "name": "stdout",
     "output_type": "stream",
     "text": [
      "{'loss': 2.4063, 'grad_norm': 3.1187360286712646, 'learning_rate': 3.0063810391978128e-06, 'epoch': 7.0}\n"
     ]
    },
    {
     "name": "stderr",
     "output_type": "stream",
     "text": [
      "                                                    \n",
      " 70%|███████   | 7679/10970 [46:43<17:15,  3.18it/s]"
     ]
    },
    {
     "name": "stdout",
     "output_type": "stream",
     "text": [
      "{'eval_loss': 2.3938584327697754, 'eval_runtime': 50.5492, 'eval_samples_per_second': 74.423, 'eval_steps_per_second': 74.423, 'epoch': 7.0}\n"
     ]
    },
    {
     "name": "stderr",
     "output_type": "stream",
     "text": [
      " 80%|████████  | 8776/10970 [52:31<11:39,  3.14it/s]   "
     ]
    },
    {
     "name": "stdout",
     "output_type": "stream",
     "text": [
      "{'loss': 2.394, 'grad_norm': 2.889619827270508, 'learning_rate': 2.006381039197812e-06, 'epoch': 8.0}\n"
     ]
    },
    {
     "name": "stderr",
     "output_type": "stream",
     "text": [
      "                                                    \n",
      " 80%|████████  | 8776/10970 [53:20<11:39,  3.14it/s]"
     ]
    },
    {
     "name": "stdout",
     "output_type": "stream",
     "text": [
      "{'eval_loss': 2.3896090984344482, 'eval_runtime': 49.4743, 'eval_samples_per_second': 76.039, 'eval_steps_per_second': 76.039, 'epoch': 8.0}\n"
     ]
    },
    {
     "name": "stderr",
     "output_type": "stream",
     "text": [
      " 90%|█████████ | 9873/10970 [59:08<05:46,  3.17it/s]  "
     ]
    },
    {
     "name": "stdout",
     "output_type": "stream",
     "text": [
      "{'loss': 2.3858, 'grad_norm': 2.345768451690674, 'learning_rate': 1.0063810391978122e-06, 'epoch': 9.0}\n"
     ]
    },
    {
     "name": "stderr",
     "output_type": "stream",
     "text": [
      "                                                    \n",
      " 90%|█████████ | 9873/10970 [59:58<05:46,  3.17it/s]"
     ]
    },
    {
     "name": "stdout",
     "output_type": "stream",
     "text": [
      "{'eval_loss': 2.3871688842773438, 'eval_runtime': 49.7122, 'eval_samples_per_second': 75.676, 'eval_steps_per_second': 75.676, 'epoch': 9.0}\n"
     ]
    },
    {
     "name": "stderr",
     "output_type": "stream",
     "text": [
      "100%|██████████| 10970/10970 [1:05:48<00:00,  3.14it/s] "
     ]
    },
    {
     "name": "stdout",
     "output_type": "stream",
     "text": [
      "{'loss': 2.3809, 'grad_norm': 2.765937328338623, 'learning_rate': 6.381039197812216e-09, 'epoch': 10.0}\n"
     ]
    },
    {
     "name": "stderr",
     "output_type": "stream",
     "text": [
      "                                                       \n",
      "100%|██████████| 10970/10970 [1:06:38<00:00,  3.14it/s]"
     ]
    },
    {
     "name": "stdout",
     "output_type": "stream",
     "text": [
      "{'eval_loss': 2.3864810466766357, 'eval_runtime': 50.1964, 'eval_samples_per_second': 74.946, 'eval_steps_per_second': 74.946, 'epoch': 10.0}\n"
     ]
    },
    {
     "name": "stderr",
     "output_type": "stream",
     "text": [
      "There were missing keys in the checkpoint model loaded: ['lm_head.weight'].\n",
      "100%|██████████| 10970/10970 [1:06:40<00:00,  2.74it/s]"
     ]
    },
    {
     "name": "stdout",
     "output_type": "stream",
     "text": [
      "{'train_runtime': 4000.8198, 'train_samples_per_second': 32.903, 'train_steps_per_second': 2.742, 'train_loss': 2.46235565213366, 'epoch': 10.0}\n"
     ]
    },
    {
     "name": "stderr",
     "output_type": "stream",
     "text": [
      "\n"
     ]
    },
    {
     "data": {
      "text/plain": [
       "TrainOutput(global_step=10970, training_loss=2.46235565213366, metrics={'train_runtime': 4000.8198, 'train_samples_per_second': 32.903, 'train_steps_per_second': 2.742, 'total_flos': 1.719824154624e+16, 'train_loss': 2.46235565213366, 'epoch': 10.0})"
      ]
     },
     "execution_count": 9,
     "metadata": {},
     "output_type": "execute_result"
    }
   ],
   "source": [
    "from transformers import Trainer, TrainingArguments\n",
    "\n",
    "# Define training arguments\n",
    "args = TrainingArguments(\n",
    "    output_dir='./results',\n",
    "    num_train_epochs=10,\n",
    "    per_device_train_batch_size=12,\n",
    "    per_device_eval_batch_size=1,\n",
    "    eval_strategy=\"epoch\",\n",
    "    save_strategy=\"epoch\",\n",
    "    save_total_limit=2,\n",
    "    load_best_model_at_end=True,\n",
    "    learning_rate=1e-5,\n",
    "    fp16=True,\n",
    "    logging_dir='./logs',          # Directory to save logs\n",
    "    logging_strategy=\"epoch\",      # Log after each epoch\n",
    ")\n",
    "trainer = Trainer(\n",
    "    model=model,\n",
    "    args=args,\n",
    "    train_dataset=train_dataset,\n",
    "    eval_dataset=val_dataset,\n",
    ")\n",
    "\n",
    "# Train the model\n",
    "trainer.train()"
   ]
  },
  {
   "cell_type": "code",
   "execution_count": 10,
   "metadata": {},
   "outputs": [
    {
     "name": "stderr",
     "output_type": "stream",
     "text": [
      "100%|██████████| 13164/13164 [02:59<00:00, 73.46it/s]\n",
      "100%|██████████| 3762/3762 [00:51<00:00, 72.35it/s]\n",
      "100%|██████████| 1881/1881 [00:26<00:00, 71.86it/s]"
     ]
    },
    {
     "name": "stdout",
     "output_type": "stream",
     "text": [
      "Train loss      : 2.293651580810547\n",
      "Validation loss : 2.3864810466766357\n",
      "Test loss       : 2.4240665435791016\n"
     ]
    },
    {
     "name": "stderr",
     "output_type": "stream",
     "text": [
      "\n"
     ]
    }
   ],
   "source": [
    "# Evaluate BLEU score on train dataset\n",
    "\n",
    "model = model.to(\"cuda\")\n",
    "train_results = trainer.evaluate(eval_dataset=train_dataset, metric_key_prefix=\"train\")\n",
    "val_results = trainer.evaluate(eval_dataset=val_dataset, metric_key_prefix=\"val\")\n",
    "test_results = trainer.evaluate(eval_dataset=test_dataset, metric_key_prefix=\"test\")\n",
    "\n",
    "print(f\"Train loss      : {train_results['train_loss']}\")\n",
    "print(f\"Validation loss : {val_results['val_loss']}\")\n",
    "print(f\"Test loss       : {test_results['test_loss']}\")"
   ]
  },
  {
   "cell_type": "code",
   "execution_count": 11,
   "metadata": {},
   "outputs": [
    {
     "name": "stdout",
     "output_type": "stream",
     "text": [
      "Train PPL       : 9.911062730742927\n",
      "Validation PPL  : 10.875157359146499\n",
      "Test PPL        : 11.291684203173237\n"
     ]
    }
   ],
   "source": [
    "import math\n",
    "\n",
    "def calculate_ppl(loss):\n",
    "    return math.exp(loss)\n",
    "\n",
    "train_ppl = calculate_ppl(train_results['train_loss'])\n",
    "val_ppl = calculate_ppl(val_results['val_loss'])\n",
    "test_ppl = calculate_ppl(test_results['test_loss'])\n",
    "\n",
    "print(f\"Train PPL       : {train_ppl}\")\n",
    "print(f\"Validation PPL  : {val_ppl}\")\n",
    "print(f\"Test PPL        : {test_ppl}\")"
   ]
  },
  {
   "cell_type": "code",
   "execution_count": 35,
   "metadata": {},
   "outputs": [
    {
     "data": {
      "image/png": "[encoded data removed]",
      "text/plain": [
       "<Figure size 1200x600 with 1 Axes>"
      ]
     },
     "metadata": {},
     "output_type": "display_data"
    }
   ],
   "source": [
    "# Extract loss values from the log history\n",
    "train_loss_values = [log['loss'] for log in trainer.state.log_history if 'loss' in log]\n",
    "eval_loss_values = [log['eval_loss'] for log in trainer.state.log_history if 'eval_loss' in log]\n",
    "\n",
    "# Plot the loss values\n",
    "plt.figure(figsize=(12, 6))\n",
    "plt.plot(train_loss_values, label='Training Loss', marker='o', linestyle='-', color='b', linewidth=2, markersize=6)\n",
    "plt.plot(eval_loss_values, label='Validation Loss', marker='x', linestyle='--', color='r', linewidth=2, markersize=6)\n",
    "plt.xlabel('Epoch', fontsize=14)\n",
    "plt.ylabel('Loss', fontsize=14)\n",
    "plt.title('Model Loss History', fontsize=16, fontweight='bold')\n",
    "plt.legend(fontsize=12)\n",
    "plt.grid(True, linestyle='--', alpha=0.7)\n",
    "plt.xticks(fontsize=12)\n",
    "plt.yticks(fontsize=12)\n",
    "plt.tight_layout()\n",
    "plt.show()\n"
   ]
  },
  {
   "cell_type": "code",
   "execution_count": 148,
   "metadata": {},
   "outputs": [
    {
     "name": "stderr",
     "output_type": "stream",
     "text": [
      "Setting `pad_token_id` to `eos_token_id`:None for open-end generation.\n"
     ]
    },
    {
     "name": "stdout",
     "output_type": "stream",
     "text": [
      "Input Text       : dont know what to say\n",
      "Generated Text   : dont know what to say about this. Ive never heard of any such thing as an alt.atheism, but I do know that there are some who claim to be atheists, and that they believe in some kind of supernatural being.\n"
     ]
    }
   ],
   "source": [
    "# Generate text\n",
    "input_text = \"dont know what to say\"\n",
    "input_ids = tokenizer(input_text, return_tensors=\"pt\").input_ids\n",
    "\n",
    "# Generate sequences\n",
    "model = model.to(\"cpu\")\n",
    "output = model.generate(input_ids, max_length=50, num_return_sequences=1, \n",
    "                        attention_mask=tokenizer(input_text, return_tensors=\"pt\").attention_mask, do_sample=True,\n",
    "                        no_repeat_ngram_size=2, top_k=50, top_p=0.95, temperature=0.7, early_stopping=True, num_beams=2)\n",
    "generated_text = tokenizer.decode(output[0], skip_special_tokens=True,)\n",
    "\n",
    "# Print generated text until the first period\n",
    "print(\"Input Text       :\", input_text)\n",
    "print(\"Generated Text   :\", generated_text.rsplit('.', 1)[0] + '.')"
   ]
  }
 ],
 "metadata": {
  "kernelspec": {
   "display_name": "Stable",
   "language": "python",
   "name": "python3"
  },
  "language_info": {
   "codemirror_mode": {
    "name": "ipython",
    "version": 3
   },
   "file_extension": ".py",
   "mimetype": "text/x-python",
   "name": "python",
   "nbconvert_exporter": "python",
   "pygments_lexer": "ipython3",
   "version": "3.9.20"
  }
 },
 "nbformat": 4,
 "nbformat_minor": 2
}
