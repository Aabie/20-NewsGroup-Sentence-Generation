{
 "cells": [
  {
   "cell_type": "code",
   "execution_count": 1,
   "metadata": {},
   "outputs": [
    {
     "name": "stderr",
     "output_type": "stream",
     "text": [
      "c:\\Users\\Axioo Pongo\\anaconda3\\envs\\Stable\\lib\\site-packages\\tqdm\\auto.py:21: TqdmWarning: IProgress not found. Please update jupyter and ipywidgets. See https://ipywidgets.readthedocs.io/en/stable/user_install.html\n",
      "  from .autonotebook import tqdm as notebook_tqdm\n"
     ]
    }
   ],
   "source": [
    "import pandas as pd\n",
    "import seaborn as sns\n",
    "import numpy as np\n",
    "import re\n",
    "import matplotlib.pyplot as plt\n",
    "import string\n",
    "import torch\n",
    "from torch.utils.data import Dataset, DataLoader, random_split, RandomSampler, SequentialSampler\n",
    "torch.manual_seed(42)\n",
    "\n",
    "from transformers import AutoTokenizer, AutoModelForCausalLM, AutoConfig\n",
    "\n",
    "df = pd.read_csv('20newsgroups.csv', names=['Text','Label'], skiprows=1)"
   ]
  },
  {
   "cell_type": "code",
   "execution_count": 2,
   "metadata": {},
   "outputs": [
    {
     "data": {
      "text/html": [
       "<div>\n",
       "<style scoped>\n",
       "    .dataframe tbody tr th:only-of-type {\n",
       "        vertical-align: middle;\n",
       "    }\n",
       "\n",
       "    .dataframe tbody tr th {\n",
       "        vertical-align: top;\n",
       "    }\n",
       "\n",
       "    .dataframe thead th {\n",
       "        text-align: right;\n",
       "    }\n",
       "</style>\n",
       "<table border=\"1\" class=\"dataframe\">\n",
       "  <thead>\n",
       "    <tr style=\"text-align: right;\">\n",
       "      <th></th>\n",
       "      <th>Text</th>\n",
       "      <th>Label</th>\n",
       "    </tr>\n",
       "  </thead>\n",
       "  <tbody>\n",
       "    <tr>\n",
       "      <th>0</th>\n",
       "      <td>From: Mamatha Devineni Ratnam &lt;mr47+@andrew.cm...</td>\n",
       "      <td>10</td>\n",
       "    </tr>\n",
       "    <tr>\n",
       "      <th>1</th>\n",
       "      <td>From: mblawson@midway.ecn.uoknor.edu (Matthew ...</td>\n",
       "      <td>3</td>\n",
       "    </tr>\n",
       "    <tr>\n",
       "      <th>2</th>\n",
       "      <td>From: hilmi-er@dsv.su.se (Hilmi Eren)\\nSubject...</td>\n",
       "      <td>17</td>\n",
       "    </tr>\n",
       "    <tr>\n",
       "      <th>3</th>\n",
       "      <td>From: guyd@austin.ibm.com (Guy Dawson)\\nSubjec...</td>\n",
       "      <td>3</td>\n",
       "    </tr>\n",
       "    <tr>\n",
       "      <th>4</th>\n",
       "      <td>From: Alexander Samuel McDiarmid &lt;am2o+@andrew...</td>\n",
       "      <td>4</td>\n",
       "    </tr>\n",
       "  </tbody>\n",
       "</table>\n",
       "</div>"
      ],
      "text/plain": [
       "                                                Text  Label\n",
       "0  From: Mamatha Devineni Ratnam <mr47+@andrew.cm...     10\n",
       "1  From: mblawson@midway.ecn.uoknor.edu (Matthew ...      3\n",
       "2  From: hilmi-er@dsv.su.se (Hilmi Eren)\\nSubject...     17\n",
       "3  From: guyd@austin.ibm.com (Guy Dawson)\\nSubjec...      3\n",
       "4  From: Alexander Samuel McDiarmid <am2o+@andrew...      4"
      ]
     },
     "execution_count": 2,
     "metadata": {},
     "output_type": "execute_result"
    }
   ],
   "source": [
    "df.head()"
   ]
  },
  {
   "cell_type": "code",
   "execution_count": 3,
   "metadata": {},
   "outputs": [],
   "source": [
    "def simplify_text(email_text):\n",
    "    def extract_body(email_text):\n",
    "        parts = email_text.split('\\n\\n', 1)\n",
    "        if len(parts) > 1:\n",
    "            body = parts[1].strip()\n",
    "            body = re.split(r'\\n--', body, maxsplit=1)[0].strip()\n",
    "            body = body.replace('\\n', ' ')\n",
    "            return body\n",
    "        return email_text\n",
    "\n",
    "    def remove_before_writes(text):\n",
    "        if \"writes:\" in text:\n",
    "            return text.rsplit(\"writes:\",1)[1].strip()\n",
    "        if \"says:\" in text:\n",
    "            return text.rsplit(\"says:\",1)[1].strip()\n",
    "        if \"wrote:\" in text:\n",
    "            return text.rsplit(\"wrote:\",1)[1].strip()\n",
    "        return text\n",
    "\n",
    "    def remove_before_edu(text):\n",
    "        if \".edu,\" in text:\n",
    "            return text.split(\".edu,\")[1].strip()\n",
    "        return text\n",
    "\n",
    "    def clean_repeated_punctuation_and_spaces(text):\n",
    "        cleaned_text = re.sub(r'([.,!?;:-])\\1+', r'\\1', text)\n",
    "        # Replace multiple spaces with a single space\n",
    "        cleaned_text = re.sub(r'\\s+', ' ', cleaned_text)\n",
    "        # Strip leading and trailing spaces\n",
    "        cleaned_text = cleaned_text.strip()\n",
    "        return cleaned_text\n",
    "    \n",
    "    def remove_punctuation(text):\n",
    "        return text.translate(str.maketrans('', '', string.punctuation.replace('.', '').replace(',', '').replace('?', '').replace('!', '')))\n",
    "\n",
    "    def remove_websites_with_specific_domains(text):\n",
    "        website_pattern = r'\\S+(\\.com|\\.edu|\\.org)\\b|\\bwww\\.\\S+?(\\.com|\\.edu|\\.EDU|\\.org)\\b'\n",
    "        # Menghapus URL dari teks\n",
    "        return re.sub(website_pattern, '', text, flags=re.IGNORECASE).strip()\n",
    "    \n",
    "    def remove_punctuation_start(text):\n",
    "        return re.sub(r'^[^\\w\\s]+', '', text)\n",
    "\n",
    "    email_text = extract_body(email_text)\n",
    "    email_text = remove_before_writes(email_text)\n",
    "    email_text = remove_before_edu(email_text)\n",
    "    email_text = remove_punctuation(email_text)\n",
    "    email_text = clean_repeated_punctuation_and_spaces(email_text)\n",
    "    email_text = remove_websites_with_specific_domains(email_text)\n",
    "    email_text = remove_punctuation_start(email_text)\n",
    "    return email_text\n",
    "\n",
    "# Terapkan fungsi simplify_text ke kolom 'Text'\n",
    "df['Text'] = df['Text'].apply(simplify_text)\n",
    "df = df[df['Text'] != ''].drop(columns=['Label'])"
   ]
  },
  {
   "cell_type": "code",
   "execution_count": 13,
   "metadata": {},
   "outputs": [
    {
     "data": {
      "image/png": "[encoded data removed]",
      "text/plain": [
       "<Figure size 1500x600 with 1 Axes>"
      ]
     },
     "metadata": {},
     "output_type": "display_data"
    }
   ],
   "source": [
    "import nltk\n",
    "\n",
    "doc_lengths = []\n",
    "\n",
    "for bio in df['Text']:\n",
    "\n",
    "    # get rough token count distribution\n",
    "    tokens = nltk.word_tokenize(bio)\n",
    "\n",
    "    doc_lengths.append(len(tokens))\n",
    "\n",
    "doc_lengths = np.array(doc_lengths)\n",
    "plt.figure(figsize=(15, 6))\n",
    "sns.histplot(doc_lengths, kde=True, color='red', bins=30)\n",
    "plt.xlabel('Document Length', fontsize=14)\n",
    "plt.ylabel('Frequency', fontsize=14)\n",
    "plt.title('Distribution of Document Lengths', fontsize=16, fontweight='bold')\n",
    "plt.grid(True, linestyle='--', alpha=0.7)\n",
    "plt.xticks(fontsize=12)\n",
    "plt.yticks(fontsize=12)\n",
    "plt.tight_layout()\n",
    "plt.show()"
   ]
  },
  {
   "cell_type": "code",
   "execution_count": 11,
   "metadata": {},
   "outputs": [
    {
     "data": {
      "text/plain": [
       "{'count': 18807,\n",
       " 'mean': np.float64(236.65220396660817),\n",
       " 'std': np.float64(446.09442746205036),\n",
       " 'min': np.int64(1),\n",
       " '25%': np.float64(75.0),\n",
       " '50%': np.float64(140.0),\n",
       " '75%': np.float64(256.0),\n",
       " 'max': np.int64(18315)}"
      ]
     },
     "execution_count": 11,
     "metadata": {},
     "output_type": "execute_result"
    }
   ],
   "source": [
    "{\n",
    "\t'count': len(doc_lengths),\n",
    "\t'mean': np.mean(doc_lengths),\n",
    "\t'std': np.std(doc_lengths),\n",
    "\t'min': np.min(doc_lengths),\n",
    "\t'25%': np.percentile(doc_lengths, 25),\n",
    "\t'50%': np.median(doc_lengths),\n",
    "\t'75%': np.percentile(doc_lengths, 75),\n",
    "\t'max': np.max(doc_lengths)\n",
    "}"
   ]
  },
  {
   "cell_type": "code",
   "execution_count": 7,
   "metadata": {},
   "outputs": [
    {
     "name": "stderr",
     "output_type": "stream",
     "text": [
      "Map: 100%|██████████| 18807/18807 [00:03<00:00, 4921.42 examples/s]\n"
     ]
    }
   ],
   "source": [
    "from datasets import Dataset\n",
    "df = Dataset.from_pandas(df)\n",
    "\n",
    "pretrained = 'microsoft/DialoGPT-small'\n",
    "config = AutoConfig.from_pretrained(pretrained)\n",
    "model = AutoModelForCausalLM.from_pretrained(pretrained, config=config)\n",
    "tokenizer = AutoTokenizer.from_pretrained(pretrained)\n",
    "tokenizer.pad_token = tokenizer.eos_token\n",
    "\n",
    "def tokenize_function(examples):\n",
    "    tokenized = tokenizer(\n",
    "        examples[\"Text\"], \n",
    "        padding=\"max_length\", \n",
    "        truncation=True, \n",
    "        max_length=256,\n",
    "        return_tensors=\"pt\" )\n",
    "\n",
    "    tokenized[\"labels\"] = tokenized[\"input_ids\"].clone()\n",
    "\n",
    "    return tokenized\n",
    "\n",
    "# Tokenize the dataset\n",
    "tokenized_dataset = df.map(tokenize_function, batched=True)\n",
    "tokenized_dataset.set_format(type=\"torch\", columns=[\"input_ids\", \"attention_mask\", \"labels\"])"
   ]
  },
  {
   "cell_type": "code",
   "execution_count": 8,
   "metadata": {},
   "outputs": [],
   "source": [
    "from transformers import GPT2Config\n",
    "new_config = GPT2Config(\n",
    "    # vocab_size=50257,\n",
    "    # n_positions=1024,\n",
    "    # n_embd=256,  # Ubah dimensi embedding menjadi 256\n",
    "    # n_layer=8,\n",
    "    temperature=10,\n",
    "    do_sample=True\n",
    ")\n",
    "model = AutoModelForCausalLM.from_pretrained(pretrained, config=new_config)"
   ]
  },
  {
   "cell_type": "code",
   "execution_count": 9,
   "metadata": {},
   "outputs": [
    {
     "name": "stdout",
     "output_type": "stream",
     "text": [
      "Train dataset size: 13164\n",
      "Validation dataset size: 3762\n",
      "Test dataset size: 1881\n"
     ]
    }
   ],
   "source": [
    "split_datasets = tokenized_dataset.train_test_split(test_size=0.2, seed=42)\n",
    "\n",
    "train_val_split = split_datasets[\"train\"].train_test_split(test_size=0.125, seed=42)  # 0.125 = 10% dari keseluruhan data\n",
    "\n",
    "train_dataset = train_val_split[\"train\"]\n",
    "val_dataset = split_datasets[\"test\"]\n",
    "test_dataset = train_val_split[\"test\"]\n",
    "\n",
    "print(f\"Train dataset size: {len(train_dataset)}\")\n",
    "print(f\"Validation dataset size: {len(val_dataset)}\")\n",
    "print(f\"Test dataset size: {len(test_dataset)}\")"
   ]
  },
  {
   "cell_type": "code",
   "execution_count": 10,
   "metadata": {},
   "outputs": [
    {
     "name": "stderr",
     "output_type": "stream",
     "text": [
      " 10%|█         | 1097/10970 [05:51<53:40,  3.07it/s]"
     ]
    },
    {
     "name": "stdout",
     "output_type": "stream",
     "text": [
      "{'loss': 3.0263, 'grad_norm': 3.644819974899292, 'learning_rate': 1.8012762078395628e-05, 'epoch': 1.0}\n"
     ]
    },
    {
     "name": "stderr",
     "output_type": "stream",
     "text": [
      "                                                    \n",
      " 10%|█         | 1097/10970 [06:42<53:40,  3.07it/s]c:\\Users\\Axioo Pongo\\anaconda3\\envs\\Stable\\lib\\site-packages\\transformers\\modeling_utils.py:2817: UserWarning: Moving the following attributes in the config to the generation config: {'do_sample': True, 'temperature': 10}. You are seeing this warning because you've set generation parameters in the model config, as opposed to in the generation config.\n",
      "  warnings.warn(\n"
     ]
    },
    {
     "name": "stdout",
     "output_type": "stream",
     "text": [
      "{'eval_loss': 2.5972092151641846, 'eval_runtime': 50.5623, 'eval_samples_per_second': 74.403, 'eval_steps_per_second': 74.403, 'epoch': 1.0}\n"
     ]
    },
    {
     "name": "stderr",
     "output_type": "stream",
     "text": [
      " 20%|██        | 2194/10970 [12:37<47:12,  3.10it/s]   "
     ]
    },
    {
     "name": "stdout",
     "output_type": "stream",
     "text": [
      "{'loss': 2.7087, 'grad_norm': 2.7174203395843506, 'learning_rate': 1.6012762078395626e-05, 'epoch': 2.0}\n"
     ]
    },
    {
     "name": "stderr",
     "output_type": "stream",
     "text": [
      "                                                    \n",
      " 20%|██        | 2194/10970 [13:28<47:12,  3.10it/s]"
     ]
    },
    {
     "name": "stdout",
     "output_type": "stream",
     "text": [
      "{'eval_loss': 2.5361521244049072, 'eval_runtime': 50.2873, 'eval_samples_per_second': 74.81, 'eval_steps_per_second': 74.81, 'epoch': 2.0}\n"
     ]
    },
    {
     "name": "stderr",
     "output_type": "stream",
     "text": [
      " 30%|███       | 3291/10970 [19:22<41:02,  3.12it/s]   "
     ]
    },
    {
     "name": "stdout",
     "output_type": "stream",
     "text": [
      "{'loss': 2.6182, 'grad_norm': 2.8525896072387695, 'learning_rate': 1.4012762078395625e-05, 'epoch': 3.0}\n"
     ]
    },
    {
     "name": "stderr",
     "output_type": "stream",
     "text": [
      "                                                    \n",
      " 30%|███       | 3291/10970 [20:12<41:02,  3.12it/s]"
     ]
    },
    {
     "name": "stdout",
     "output_type": "stream",
     "text": [
      "{'eval_loss': 2.499394416809082, 'eval_runtime': 49.8544, 'eval_samples_per_second': 75.46, 'eval_steps_per_second': 75.46, 'epoch': 3.0}\n"
     ]
    },
    {
     "name": "stderr",
     "output_type": "stream",
     "text": [
      " 40%|████      | 4388/10970 [26:08<35:25,  3.10it/s]   "
     ]
    },
    {
     "name": "stdout",
     "output_type": "stream",
     "text": [
      "{'loss': 2.5575, 'grad_norm': 2.9672751426696777, 'learning_rate': 1.2012762078395626e-05, 'epoch': 4.0}\n"
     ]
    },
    {
     "name": "stderr",
     "output_type": "stream",
     "text": [
      "                                                    \n",
      " 40%|████      | 4388/10970 [26:59<35:25,  3.10it/s]"
     ]
    },
    {
     "name": "stdout",
     "output_type": "stream",
     "text": [
      "{'eval_loss': 2.4749598503112793, 'eval_runtime': 51.7266, 'eval_samples_per_second': 72.728, 'eval_steps_per_second': 72.728, 'epoch': 4.0}\n"
     ]
    },
    {
     "name": "stderr",
     "output_type": "stream",
     "text": [
      " 50%|█████     | 5485/10970 [33:02<30:30,  3.00it/s]   "
     ]
    },
    {
     "name": "stdout",
     "output_type": "stream",
     "text": [
      "{'loss': 2.5109, 'grad_norm': 2.596574306488037, 'learning_rate': 1.0012762078395626e-05, 'epoch': 5.0}\n"
     ]
    },
    {
     "name": "stderr",
     "output_type": "stream",
     "text": [
      "                                                    \n",
      " 50%|█████     | 5485/10970 [36:03<30:30,  3.00it/s]"
     ]
    },
    {
     "name": "stdout",
     "output_type": "stream",
     "text": [
      "{'eval_loss': 2.4575250148773193, 'eval_runtime': 181.3206, 'eval_samples_per_second': 20.748, 'eval_steps_per_second': 20.748, 'epoch': 5.0}\n"
     ]
    },
    {
     "name": "stderr",
     "output_type": "stream",
     "text": [
      " 60%|██████    | 6582/10970 [42:06<24:00,  3.05it/s]   "
     ]
    },
    {
     "name": "stdout",
     "output_type": "stream",
     "text": [
      "{'loss': 2.4752, 'grad_norm': 2.233532428741455, 'learning_rate': 8.012762078395625e-06, 'epoch': 6.0}\n"
     ]
    },
    {
     "name": "stderr",
     "output_type": "stream",
     "text": [
      "                                                    \n",
      " 60%|██████    | 6582/10970 [45:06<24:00,  3.05it/s]"
     ]
    },
    {
     "name": "stdout",
     "output_type": "stream",
     "text": [
      "{'eval_loss': 2.4442694187164307, 'eval_runtime': 180.0832, 'eval_samples_per_second': 20.89, 'eval_steps_per_second': 20.89, 'epoch': 6.0}\n"
     ]
    },
    {
     "name": "stderr",
     "output_type": "stream",
     "text": [
      " 70%|███████   | 7679/10970 [51:06<17:44,  3.09it/s]   "
     ]
    },
    {
     "name": "stdout",
     "output_type": "stream",
     "text": [
      "{'loss': 2.448, 'grad_norm': 2.3894553184509277, 'learning_rate': 6.0127620783956255e-06, 'epoch': 7.0}\n"
     ]
    },
    {
     "name": "stderr",
     "output_type": "stream",
     "text": [
      "                                                    \n",
      " 70%|███████   | 7679/10970 [52:02<17:44,  3.09it/s]"
     ]
    },
    {
     "name": "stdout",
     "output_type": "stream",
     "text": [
      "{'eval_loss': 2.435413360595703, 'eval_runtime': 55.8883, 'eval_samples_per_second': 67.313, 'eval_steps_per_second': 67.313, 'epoch': 7.0}\n"
     ]
    },
    {
     "name": "stderr",
     "output_type": "stream",
     "text": [
      " 80%|████████  | 8776/10970 [57:59<11:41,  3.13it/s]   "
     ]
    },
    {
     "name": "stdout",
     "output_type": "stream",
     "text": [
      "{'loss': 2.4283, 'grad_norm': 2.2708442211151123, 'learning_rate': 4.012762078395624e-06, 'epoch': 8.0}\n"
     ]
    },
    {
     "name": "stderr",
     "output_type": "stream",
     "text": [
      "                                                    \n",
      " 80%|████████  | 8776/10970 [58:58<11:41,  3.13it/s]"
     ]
    },
    {
     "name": "stdout",
     "output_type": "stream",
     "text": [
      "{'eval_loss': 2.4293394088745117, 'eval_runtime': 59.5021, 'eval_samples_per_second': 63.225, 'eval_steps_per_second': 63.225, 'epoch': 8.0}\n"
     ]
    },
    {
     "name": "stderr",
     "output_type": "stream",
     "text": [
      " 90%|█████████ | 9873/10970 [1:04:54<05:52,  3.12it/s] "
     ]
    },
    {
     "name": "stdout",
     "output_type": "stream",
     "text": [
      "{'loss': 2.4143, 'grad_norm': 1.8374618291854858, 'learning_rate': 2.0127620783956244e-06, 'epoch': 9.0}\n"
     ]
    },
    {
     "name": "stderr",
     "output_type": "stream",
     "text": [
      "                                                      \n",
      " 90%|█████████ | 9873/10970 [1:05:53<05:52,  3.12it/s]"
     ]
    },
    {
     "name": "stdout",
     "output_type": "stream",
     "text": [
      "{'eval_loss': 2.4259562492370605, 'eval_runtime': 58.9899, 'eval_samples_per_second': 63.774, 'eval_steps_per_second': 63.774, 'epoch': 9.0}\n"
     ]
    },
    {
     "name": "stderr",
     "output_type": "stream",
     "text": [
      "100%|██████████| 10970/10970 [1:11:58<00:00,  3.01it/s] "
     ]
    },
    {
     "name": "stdout",
     "output_type": "stream",
     "text": [
      "{'loss': 2.4061, 'grad_norm': 2.141934394836426, 'learning_rate': 1.2762078395624432e-08, 'epoch': 10.0}\n"
     ]
    },
    {
     "name": "stderr",
     "output_type": "stream",
     "text": [
      "                                                       \n",
      "100%|██████████| 10970/10970 [1:15:01<00:00,  3.01it/s]"
     ]
    },
    {
     "name": "stdout",
     "output_type": "stream",
     "text": [
      "{'eval_loss': 2.4251856803894043, 'eval_runtime': 182.8216, 'eval_samples_per_second': 20.577, 'eval_steps_per_second': 20.577, 'epoch': 10.0}\n"
     ]
    },
    {
     "name": "stderr",
     "output_type": "stream",
     "text": [
      "There were missing keys in the checkpoint model loaded: ['lm_head.weight'].\n",
      "100%|██████████| 10970/10970 [1:15:06<00:00,  2.43it/s]"
     ]
    },
    {
     "name": "stdout",
     "output_type": "stream",
     "text": [
      "{'train_runtime': 4506.4177, 'train_samples_per_second': 29.212, 'train_steps_per_second': 2.434, 'train_loss': 2.559340882627336, 'epoch': 10.0}\n"
     ]
    },
    {
     "name": "stderr",
     "output_type": "stream",
     "text": [
      "\n"
     ]
    },
    {
     "data": {
      "text/plain": [
       "TrainOutput(global_step=10970, training_loss=2.559340882627336, metrics={'train_runtime': 4506.4177, 'train_samples_per_second': 29.212, 'train_steps_per_second': 2.434, 'total_flos': 1.719824154624e+16, 'train_loss': 2.559340882627336, 'epoch': 10.0})"
      ]
     },
     "execution_count": 10,
     "metadata": {},
     "output_type": "execute_result"
    }
   ],
   "source": [
    "from transformers import Trainer, TrainingArguments\n",
    "\n",
    "# Define training arguments\n",
    "args = TrainingArguments(\n",
    "    output_dir='./results' + pretrained,\n",
    "    num_train_epochs=10,\n",
    "    per_device_train_batch_size=12,\n",
    "    per_device_eval_batch_size=1,\n",
    "    eval_strategy=\"epoch\",\n",
    "    save_strategy=\"epoch\",\n",
    "    save_total_limit=2,\n",
    "    load_best_model_at_end=True,\n",
    "    learning_rate=2e-5,\n",
    "    fp16=True,\n",
    "    logging_dir='./logs' + pretrained,          # Directory to save logs\n",
    "    logging_strategy=\"epoch\",      # Log after each epoch\n",
    ")\n",
    "trainer = Trainer(\n",
    "    model=model,\n",
    "    args=args,\n",
    "    train_dataset=train_dataset,\n",
    "    eval_dataset=val_dataset,\n",
    ")\n",
    "\n",
    "# Train the model\n",
    "trainer.train()"
   ]
  },
  {
   "cell_type": "code",
   "execution_count": 11,
   "metadata": {},
   "outputs": [
    {
     "name": "stderr",
     "output_type": "stream",
     "text": [
      "100%|██████████| 13164/13164 [10:02<00:00, 21.86it/s]\n",
      "100%|██████████| 3762/3762 [02:51<00:00, 21.95it/s]\n",
      "100%|██████████| 1881/1881 [01:26<00:00, 21.66it/s]"
     ]
    },
    {
     "name": "stdout",
     "output_type": "stream",
     "text": [
      "Train loss      : 2.2541773319244385\n",
      "Validation loss : 2.4251856803894043\n",
      "Test loss       : 2.4694406986236572\n"
     ]
    },
    {
     "name": "stderr",
     "output_type": "stream",
     "text": [
      "\n"
     ]
    }
   ],
   "source": [
    "# Evaluate BLEU score on train dataset\n",
    "\n",
    "model = model.to(\"cuda\")\n",
    "train_results = trainer.evaluate(eval_dataset=train_dataset, metric_key_prefix=\"train\")\n",
    "val_results = trainer.evaluate(eval_dataset=val_dataset, metric_key_prefix=\"val\")\n",
    "test_results = trainer.evaluate(eval_dataset=test_dataset, metric_key_prefix=\"test\")\n",
    "\n",
    "print(f\"Train loss      : {train_results['train_loss']}\")\n",
    "print(f\"Validation loss : {val_results['val_loss']}\")\n",
    "print(f\"Test loss       : {test_results['test_loss']}\")"
   ]
  },
  {
   "cell_type": "code",
   "execution_count": 12,
   "metadata": {},
   "outputs": [
    {
     "name": "stdout",
     "output_type": "stream",
     "text": [
      "Train PPL       : 9.527452154525818\n",
      "Validation PPL  : 11.304328216486\n",
      "Test PPL        : 11.815836389643067\n"
     ]
    }
   ],
   "source": [
    "import math\n",
    "\n",
    "def calculate_ppl(loss):\n",
    "    return math.exp(loss)\n",
    "\n",
    "train_ppl = calculate_ppl(train_results['train_loss'])\n",
    "val_ppl = calculate_ppl(val_results['val_loss'])\n",
    "test_ppl = calculate_ppl(test_results['test_loss'])\n",
    "\n",
    "print(f\"Train PPL       : {train_ppl}\")\n",
    "print(f\"Validation PPL  : {val_ppl}\")\n",
    "print(f\"Test PPL        : {test_ppl}\")"
   ]
  },
  {
   "cell_type": "code",
   "execution_count": 13,
   "metadata": {},
   "outputs": [
    {
     "data": {
      "image/png": "[encoded data removed]",
      "text/plain": [
       "<Figure size 1200x600 with 1 Axes>"
      ]
     },
     "metadata": {},
     "output_type": "display_data"
    }
   ],
   "source": [
    "# Extract loss values from the log history\n",
    "train_loss_values = [log['loss'] for log in trainer.state.log_history if 'loss' in log]\n",
    "eval_loss_values = [log['eval_loss'] for log in trainer.state.log_history if 'eval_loss' in log]\n",
    "\n",
    "# Plot the loss values\n",
    "plt.figure(figsize=(12, 6))\n",
    "plt.plot(train_loss_values, label='Training Loss', marker='o', linestyle='-', color='b', linewidth=2, markersize=6)\n",
    "plt.plot(eval_loss_values, label='Validation Loss', marker='x', linestyle='--', color='r', linewidth=2, markersize=6)\n",
    "plt.xlabel('Epoch', fontsize=14)\n",
    "plt.ylabel('Loss', fontsize=14)\n",
    "plt.title('Model Loss History', fontsize=16, fontweight='bold')\n",
    "plt.legend(fontsize=12)\n",
    "plt.grid(True, linestyle='--', alpha=0.7)\n",
    "plt.xticks(fontsize=12)\n",
    "plt.yticks(fontsize=12)\n",
    "plt.tight_layout()\n",
    "plt.show()\n"
   ]
  },
  {
   "cell_type": "code",
   "execution_count": 17,
   "metadata": {},
   "outputs": [
    {
     "name": "stderr",
     "output_type": "stream",
     "text": [
      "Setting `pad_token_id` to `eos_token_id`:None for open-end generation.\n"
     ]
    },
    {
     "name": "stdout",
     "output_type": "stream",
     "text": [
      "Input Text       : dont know what to say\n",
      "Generated Text   : dont know what to say about this. Ive seen some of the posts on this group, but I dont think it is a good idea to post this here.\n"
     ]
    }
   ],
   "source": [
    "# Generate text\n",
    "input_text = \"dont know what to say\"\n",
    "input_ids = tokenizer(input_text, return_tensors=\"pt\").input_ids\n",
    "\n",
    "# Generate sequences\n",
    "model = model.to(\"cpu\")\n",
    "output = model.generate(input_ids, max_length=50, num_return_sequences=1, \n",
    "                        attention_mask=tokenizer(input_text, return_tensors=\"pt\").attention_mask, do_sample=True,\n",
    "                        no_repeat_ngram_size=2, top_k=50, top_p=0.95, temperature=0.7, early_stopping=True, num_beams=2)\n",
    "generated_text = tokenizer.decode(output[0], skip_special_tokens=True,)\n",
    "\n",
    "# Print generated text until the first period\n",
    "print(\"Input Text       :\", input_text)\n",
    "print(\"Generated Text   :\", generated_text.rsplit('.', 1)[0] + '.')"
   ]
  }
 ],
 "metadata": {
  "kernelspec": {
   "display_name": "Stable",
   "language": "python",
   "name": "python3"
  },
  "language_info": {
   "codemirror_mode": {
    "name": "ipython",
    "version": 3
   },
   "file_extension": ".py",
   "mimetype": "text/x-python",
   "name": "python",
   "nbconvert_exporter": "python",
   "pygments_lexer": "ipython3",
   "version": "3.9.20"
  }
 },
 "nbformat": 4,
 "nbformat_minor": 2
}
