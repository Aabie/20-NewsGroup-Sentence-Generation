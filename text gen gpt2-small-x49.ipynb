{
 "cells": [
  {
   "cell_type": "code",
   "execution_count": 1,
   "metadata": {},
   "outputs": [
    {
     "name": "stderr",
     "output_type": "stream",
     "text": [
      "c:\\Users\\Axioo Pongo\\anaconda3\\envs\\Stable\\lib\\site-packages\\tqdm\\auto.py:21: TqdmWarning: IProgress not found. Please update jupyter and ipywidgets. See https://ipywidgets.readthedocs.io/en/stable/user_install.html\n",
      "  from .autonotebook import tqdm as notebook_tqdm\n"
     ]
    }
   ],
   "source": [
    "import pandas as pd\n",
    "import seaborn as sns\n",
    "import numpy as np\n",
    "import re\n",
    "import matplotlib.pyplot as plt\n",
    "import string\n",
    "import torch\n",
    "from torch.utils.data import Dataset, DataLoader, random_split, RandomSampler, SequentialSampler\n",
    "torch.manual_seed(42)\n",
    "\n",
    "from transformers import AutoTokenizer, AutoModelForCausalLM, AutoConfig\n",
    "\n",
    "df = pd.read_csv('20newsgroups.csv', names=['Text','Label'], skiprows=1)"
   ]
  },
  {
   "cell_type": "code",
   "execution_count": 2,
   "metadata": {},
   "outputs": [
    {
     "data": {
      "text/html": [
       "<div>\n",
       "<style scoped>\n",
       "    .dataframe tbody tr th:only-of-type {\n",
       "        vertical-align: middle;\n",
       "    }\n",
       "\n",
       "    .dataframe tbody tr th {\n",
       "        vertical-align: top;\n",
       "    }\n",
       "\n",
       "    .dataframe thead th {\n",
       "        text-align: right;\n",
       "    }\n",
       "</style>\n",
       "<table border=\"1\" class=\"dataframe\">\n",
       "  <thead>\n",
       "    <tr style=\"text-align: right;\">\n",
       "      <th></th>\n",
       "      <th>Text</th>\n",
       "      <th>Label</th>\n",
       "    </tr>\n",
       "  </thead>\n",
       "  <tbody>\n",
       "    <tr>\n",
       "      <th>0</th>\n",
       "      <td>From: Mamatha Devineni Ratnam &lt;mr47+@andrew.cm...</td>\n",
       "      <td>10</td>\n",
       "    </tr>\n",
       "    <tr>\n",
       "      <th>1</th>\n",
       "      <td>From: mblawson@midway.ecn.uoknor.edu (Matthew ...</td>\n",
       "      <td>3</td>\n",
       "    </tr>\n",
       "    <tr>\n",
       "      <th>2</th>\n",
       "      <td>From: hilmi-er@dsv.su.se (Hilmi Eren)\\nSubject...</td>\n",
       "      <td>17</td>\n",
       "    </tr>\n",
       "    <tr>\n",
       "      <th>3</th>\n",
       "      <td>From: guyd@austin.ibm.com (Guy Dawson)\\nSubjec...</td>\n",
       "      <td>3</td>\n",
       "    </tr>\n",
       "    <tr>\n",
       "      <th>4</th>\n",
       "      <td>From: Alexander Samuel McDiarmid &lt;am2o+@andrew...</td>\n",
       "      <td>4</td>\n",
       "    </tr>\n",
       "  </tbody>\n",
       "</table>\n",
       "</div>"
      ],
      "text/plain": [
       "                                                Text  Label\n",
       "0  From: Mamatha Devineni Ratnam <mr47+@andrew.cm...     10\n",
       "1  From: mblawson@midway.ecn.uoknor.edu (Matthew ...      3\n",
       "2  From: hilmi-er@dsv.su.se (Hilmi Eren)\\nSubject...     17\n",
       "3  From: guyd@austin.ibm.com (Guy Dawson)\\nSubjec...      3\n",
       "4  From: Alexander Samuel McDiarmid <am2o+@andrew...      4"
      ]
     },
     "execution_count": 2,
     "metadata": {},
     "output_type": "execute_result"
    }
   ],
   "source": [
    "df.head()"
   ]
  },
  {
   "cell_type": "code",
   "execution_count": 3,
   "metadata": {},
   "outputs": [],
   "source": [
    "def simplify_text(email_text):\n",
    "    def extract_body(email_text):\n",
    "        parts = email_text.split('\\n\\n', 1)\n",
    "        if len(parts) > 1:\n",
    "            body = parts[1].strip()\n",
    "            body = re.split(r'\\n--', body, maxsplit=1)[0].strip()\n",
    "            body = body.replace('\\n', ' ')\n",
    "            return body\n",
    "        return email_text\n",
    "\n",
    "    def remove_before_writes(text):\n",
    "        if \"writes:\" in text:\n",
    "            return text.rsplit(\"writes:\",1)[1].strip()\n",
    "        if \"says:\" in text:\n",
    "            return text.rsplit(\"says:\",1)[1].strip()\n",
    "        if \"wrote:\" in text:\n",
    "            return text.rsplit(\"wrote:\",1)[1].strip()\n",
    "        return text\n",
    "\n",
    "    def remove_before_edu(text):\n",
    "        if \".edu,\" in text:\n",
    "            return text.split(\".edu,\")[1].strip()\n",
    "        return text\n",
    "\n",
    "    def clean_repeated_punctuation_and_spaces(text):\n",
    "        cleaned_text = re.sub(r'([.,!?;:-])\\1+', r'\\1', text)\n",
    "        # Replace multiple spaces with a single space\n",
    "        cleaned_text = re.sub(r'\\s+', ' ', cleaned_text)\n",
    "        # Strip leading and trailing spaces\n",
    "        cleaned_text = cleaned_text.strip()\n",
    "        return cleaned_text\n",
    "    \n",
    "    def remove_punctuation(text):\n",
    "        return text.translate(str.maketrans('', '', string.punctuation.replace('.', '').replace(',', '').replace('?', '').replace('!', '')))\n",
    "\n",
    "    def remove_websites_with_specific_domains(text):\n",
    "        website_pattern = r'\\S+(\\.com|\\.edu|\\.org)\\b|\\bwww\\.\\S+?(\\.com|\\.edu|\\.EDU|\\.org)\\b'\n",
    "        # Menghapus URL dari teks\n",
    "        return re.sub(website_pattern, '', text, flags=re.IGNORECASE).strip()\n",
    "    \n",
    "    def remove_punctuation_start(text):\n",
    "        return re.sub(r'^[^\\w\\s]+', '', text)\n",
    "\n",
    "    email_text = extract_body(email_text)\n",
    "    email_text = remove_before_writes(email_text)\n",
    "    email_text = remove_before_edu(email_text)\n",
    "    email_text = remove_punctuation(email_text)\n",
    "    email_text = clean_repeated_punctuation_and_spaces(email_text)\n",
    "    email_text = remove_websites_with_specific_domains(email_text)\n",
    "    email_text = remove_punctuation_start(email_text)\n",
    "    return email_text\n",
    "\n",
    "# Terapkan fungsi simplify_text ke kolom 'Text'\n",
    "df['Text'] = df['Text'].apply(simplify_text)\n",
    "df = df[df['Text'] != ''].drop(columns=['Label'])"
   ]
  },
  {
   "cell_type": "code",
   "execution_count": 4,
   "metadata": {},
   "outputs": [],
   "source": [
    "# doc_lengths = []\n",
    "\n",
    "# for bio in df['Text']:\n",
    "\n",
    "#     # get rough token count distribution\n",
    "#     tokens = nltk.word_tokenize(bio)\n",
    "\n",
    "#     doc_lengths.append(len(tokens))\n",
    "\n",
    "# doc_lengths = np.array(doc_lengths)\n",
    "\n",
    "# plt.figure(figsize=(15, 4))\n",
    "# sns.histplot(doc_lengths, kde=True)\n",
    "# plt.xlabel('Document Length')\n",
    "# plt.ylabel('Frequency')\n",
    "# plt.title('Distribution of Document Lengths')\n",
    "# plt.show()"
   ]
  },
  {
   "cell_type": "code",
   "execution_count": 5,
   "metadata": {},
   "outputs": [],
   "source": [
    "# len(doc_lengths[doc_lengths > 768])/len(doc_lengths)"
   ]
  },
  {
   "cell_type": "code",
   "execution_count": 6,
   "metadata": {},
   "outputs": [],
   "source": [
    "# doc_lengths.mean()"
   ]
  },
  {
   "cell_type": "code",
   "execution_count": 7,
   "metadata": {},
   "outputs": [
    {
     "name": "stderr",
     "output_type": "stream",
     "text": [
      "Map: 100%|██████████| 18807/18807 [00:04<00:00, 4548.88 examples/s]\n"
     ]
    }
   ],
   "source": [
    "from datasets import Dataset\n",
    "df = Dataset.from_pandas(df)\n",
    "\n",
    "pretrained = 'stanford-crfm/battlestar-gpt2-small-x49'\n",
    "config = AutoConfig.from_pretrained(pretrained)\n",
    "model = AutoModelForCausalLM.from_pretrained(pretrained, config=config)\n",
    "tokenizer = AutoTokenizer.from_pretrained(pretrained)\n",
    "tokenizer.pad_token = tokenizer.eos_token\n",
    "\n",
    "def tokenize_function(examples):\n",
    "    tokenized = tokenizer(\n",
    "        examples[\"Text\"], \n",
    "        padding=\"max_length\", \n",
    "        truncation=True, \n",
    "        max_length=256,\n",
    "        return_tensors=\"pt\" )\n",
    "\n",
    "    tokenized[\"labels\"] = tokenized[\"input_ids\"].clone()\n",
    "\n",
    "    return tokenized\n",
    "\n",
    "# Tokenize the dataset\n",
    "tokenized_dataset = df.map(tokenize_function, batched=True)\n",
    "tokenized_dataset.set_format(type=\"torch\", columns=[\"input_ids\", \"attention_mask\", \"labels\"])"
   ]
  },
  {
   "cell_type": "code",
   "execution_count": 8,
   "metadata": {},
   "outputs": [
    {
     "name": "stdout",
     "output_type": "stream",
     "text": [
      "Train dataset size: 13164\n",
      "Validation dataset size: 3762\n",
      "Test dataset size: 1881\n"
     ]
    }
   ],
   "source": [
    "split_datasets = tokenized_dataset.train_test_split(test_size=0.2, seed=42)\n",
    "\n",
    "train_val_split = split_datasets[\"train\"].train_test_split(test_size=0.125, seed=42)  # 0.125 = 10% dari keseluruhan data\n",
    "\n",
    "train_dataset = train_val_split[\"train\"]\n",
    "val_dataset = split_datasets[\"test\"]\n",
    "test_dataset = train_val_split[\"test\"]\n",
    "\n",
    "print(f\"Train dataset size: {len(train_dataset)}\")\n",
    "print(f\"Validation dataset size: {len(val_dataset)}\")\n",
    "print(f\"Test dataset size: {len(test_dataset)}\")"
   ]
  },
  {
   "cell_type": "code",
   "execution_count": 9,
   "metadata": {},
   "outputs": [
    {
     "name": "stderr",
     "output_type": "stream",
     "text": [
      " 10%|█         | 2194/21940 [06:27<57:48,  5.69it/s]  "
     ]
    },
    {
     "name": "stdout",
     "output_type": "stream",
     "text": [
      "{'loss': 3.0075, 'grad_norm': 16.33364486694336, 'learning_rate': 6.301595259799453e-06, 'epoch': 1.0}\n"
     ]
    },
    {
     "name": "stderr",
     "output_type": "stream",
     "text": [
      "                                                    \n",
      " 10%|█         | 2194/21940 [07:13<57:48,  5.69it/s]"
     ]
    },
    {
     "name": "stdout",
     "output_type": "stream",
     "text": [
      "{'eval_loss': 2.6219465732574463, 'eval_runtime': 46.263, 'eval_samples_per_second': 81.318, 'eval_steps_per_second': 81.318, 'epoch': 1.0}\n"
     ]
    },
    {
     "name": "stderr",
     "output_type": "stream",
     "text": [
      " 20%|██        | 4388/21940 [13:44<51:52,  5.64it/s]   "
     ]
    },
    {
     "name": "stdout",
     "output_type": "stream",
     "text": [
      "{'loss': 2.6559, 'grad_norm': 10.911980628967285, 'learning_rate': 5.601595259799453e-06, 'epoch': 2.0}\n"
     ]
    },
    {
     "name": "stderr",
     "output_type": "stream",
     "text": [
      "                                                    \n",
      " 20%|██        | 4388/21940 [14:30<51:52,  5.64it/s]"
     ]
    },
    {
     "name": "stdout",
     "output_type": "stream",
     "text": [
      "{'eval_loss': 2.551142692565918, 'eval_runtime': 46.7463, 'eval_samples_per_second': 80.477, 'eval_steps_per_second': 80.477, 'epoch': 2.0}\n"
     ]
    },
    {
     "name": "stderr",
     "output_type": "stream",
     "text": [
      " 30%|███       | 6582/21940 [21:01<45:23,  5.64it/s]   "
     ]
    },
    {
     "name": "stdout",
     "output_type": "stream",
     "text": [
      "{'loss': 2.5714, 'grad_norm': 10.596869468688965, 'learning_rate': 4.901595259799453e-06, 'epoch': 3.0}\n"
     ]
    },
    {
     "name": "stderr",
     "output_type": "stream",
     "text": [
      "                                                    \n",
      " 30%|███       | 6582/21940 [21:48<45:23,  5.64it/s]"
     ]
    },
    {
     "name": "stdout",
     "output_type": "stream",
     "text": [
      "{'eval_loss': 2.5124378204345703, 'eval_runtime': 47.1844, 'eval_samples_per_second': 79.73, 'eval_steps_per_second': 79.73, 'epoch': 3.0}\n"
     ]
    },
    {
     "name": "stderr",
     "output_type": "stream",
     "text": [
      " 40%|████      | 8776/21940 [28:18<39:20,  5.58it/s]   "
     ]
    },
    {
     "name": "stdout",
     "output_type": "stream",
     "text": [
      "{'loss': 2.5121, 'grad_norm': 11.100334167480469, 'learning_rate': 4.201914311759343e-06, 'epoch': 4.0}\n"
     ]
    },
    {
     "name": "stderr",
     "output_type": "stream",
     "text": [
      "                                                    \n",
      " 40%|████      | 8776/21940 [29:05<39:20,  5.58it/s]"
     ]
    },
    {
     "name": "stdout",
     "output_type": "stream",
     "text": [
      "{'eval_loss': 2.4856064319610596, 'eval_runtime': 46.2395, 'eval_samples_per_second': 81.359, 'eval_steps_per_second': 81.359, 'epoch': 4.0}\n"
     ]
    },
    {
     "name": "stderr",
     "output_type": "stream",
     "text": [
      " 50%|█████     | 10970/21940 [35:35<32:55,  5.55it/s]  "
     ]
    },
    {
     "name": "stdout",
     "output_type": "stream",
     "text": [
      "{'loss': 2.4657, 'grad_norm': 10.223199844360352, 'learning_rate': 3.5019143117593437e-06, 'epoch': 5.0}\n"
     ]
    },
    {
     "name": "stderr",
     "output_type": "stream",
     "text": [
      "                                                     \n",
      " 50%|█████     | 10970/21940 [36:22<32:55,  5.55it/s]"
     ]
    },
    {
     "name": "stdout",
     "output_type": "stream",
     "text": [
      "{'eval_loss': 2.462617874145508, 'eval_runtime': 47.2089, 'eval_samples_per_second': 79.688, 'eval_steps_per_second': 79.688, 'epoch': 5.0}\n"
     ]
    },
    {
     "name": "stderr",
     "output_type": "stream",
     "text": [
      " 60%|██████    | 13164/21940 [42:52<25:28,  5.74it/s]   "
     ]
    },
    {
     "name": "stdout",
     "output_type": "stream",
     "text": [
      "{'loss': 2.4286, 'grad_norm': 7.915390968322754, 'learning_rate': 2.802233363719234e-06, 'epoch': 6.0}\n"
     ]
    },
    {
     "name": "stderr",
     "output_type": "stream",
     "text": [
      "                                                     \n",
      " 60%|██████    | 13164/21940 [43:37<25:28,  5.74it/s]"
     ]
    },
    {
     "name": "stdout",
     "output_type": "stream",
     "text": [
      "{'eval_loss': 2.4470033645629883, 'eval_runtime': 45.2886, 'eval_samples_per_second': 83.067, 'eval_steps_per_second': 83.067, 'epoch': 6.0}\n"
     ]
    },
    {
     "name": "stderr",
     "output_type": "stream",
     "text": [
      " 70%|███████   | 15358/21940 [50:06<19:29,  5.63it/s]   "
     ]
    },
    {
     "name": "stdout",
     "output_type": "stream",
     "text": [
      "{'loss': 2.3978, 'grad_norm': 9.162864685058594, 'learning_rate': 2.1025524156791246e-06, 'epoch': 7.0}\n"
     ]
    },
    {
     "name": "stderr",
     "output_type": "stream",
     "text": [
      "                                                     \n",
      " 70%|███████   | 15358/21940 [50:52<19:29,  5.63it/s]"
     ]
    },
    {
     "name": "stdout",
     "output_type": "stream",
     "text": [
      "{'eval_loss': 2.436169385910034, 'eval_runtime': 45.7176, 'eval_samples_per_second': 82.288, 'eval_steps_per_second': 82.288, 'epoch': 7.0}\n"
     ]
    },
    {
     "name": "stderr",
     "output_type": "stream",
     "text": [
      " 80%|████████  | 17552/21940 [57:22<12:54,  5.67it/s]   "
     ]
    },
    {
     "name": "stdout",
     "output_type": "stream",
     "text": [
      "{'loss': 2.3745, 'grad_norm': 9.11694622039795, 'learning_rate': 1.4035095715587966e-06, 'epoch': 8.0}\n"
     ]
    },
    {
     "name": "stderr",
     "output_type": "stream",
     "text": [
      "                                                     \n",
      " 80%|████████  | 17552/21940 [58:07<12:54,  5.67it/s]"
     ]
    },
    {
     "name": "stdout",
     "output_type": "stream",
     "text": [
      "{'eval_loss': 2.426967144012451, 'eval_runtime': 45.5305, 'eval_samples_per_second': 82.626, 'eval_steps_per_second': 82.626, 'epoch': 8.0}\n"
     ]
    },
    {
     "name": "stderr",
     "output_type": "stream",
     "text": [
      " 90%|█████████ | 19746/21940 [1:04:37<06:29,  5.64it/s] "
     ]
    },
    {
     "name": "stdout",
     "output_type": "stream",
     "text": [
      "{'loss': 2.3578, 'grad_norm': 7.585539817810059, 'learning_rate': 7.035095715587966e-07, 'epoch': 9.0}\n"
     ]
    },
    {
     "name": "stderr",
     "output_type": "stream",
     "text": [
      "                                                       \n",
      " 90%|█████████ | 19746/21940 [1:05:22<06:29,  5.64it/s]"
     ]
    },
    {
     "name": "stdout",
     "output_type": "stream",
     "text": [
      "{'eval_loss': 2.4207282066345215, 'eval_runtime': 45.5333, 'eval_samples_per_second': 82.621, 'eval_steps_per_second': 82.621, 'epoch': 9.0}\n"
     ]
    },
    {
     "name": "stderr",
     "output_type": "stream",
     "text": [
      "100%|██████████| 21940/21940 [1:11:54<00:00,  5.67it/s]  "
     ]
    },
    {
     "name": "stdout",
     "output_type": "stream",
     "text": [
      "{'loss': 2.3469, 'grad_norm': 7.873032093048096, 'learning_rate': 3.828623518687328e-09, 'epoch': 10.0}\n"
     ]
    },
    {
     "name": "stderr",
     "output_type": "stream",
     "text": [
      "                                                       \n",
      "100%|██████████| 21940/21940 [1:12:39<00:00,  5.67it/s]"
     ]
    },
    {
     "name": "stdout",
     "output_type": "stream",
     "text": [
      "{'eval_loss': 2.419266700744629, 'eval_runtime': 45.6694, 'eval_samples_per_second': 82.375, 'eval_steps_per_second': 82.375, 'epoch': 10.0}\n"
     ]
    },
    {
     "name": "stderr",
     "output_type": "stream",
     "text": [
      "There were missing keys in the checkpoint model loaded: ['lm_head.weight'].\n",
      "100%|██████████| 21940/21940 [1:12:42<00:00,  5.03it/s]"
     ]
    },
    {
     "name": "stdout",
     "output_type": "stream",
     "text": [
      "{'train_runtime': 4362.0694, 'train_samples_per_second': 30.178, 'train_steps_per_second': 5.03, 'train_loss': 2.511821569479262, 'epoch': 10.0}\n"
     ]
    },
    {
     "name": "stderr",
     "output_type": "stream",
     "text": [
      "\n"
     ]
    },
    {
     "data": {
      "text/plain": [
       "TrainOutput(global_step=21940, training_loss=2.511821569479262, metrics={'train_runtime': 4362.0694, 'train_samples_per_second': 30.178, 'train_steps_per_second': 5.03, 'total_flos': 1.719824154624e+16, 'train_loss': 2.511821569479262, 'epoch': 10.0})"
      ]
     },
     "execution_count": 9,
     "metadata": {},
     "output_type": "execute_result"
    }
   ],
   "source": [
    "from transformers import Trainer, TrainingArguments\n",
    "\n",
    "# Define training arguments\n",
    "args = TrainingArguments(\n",
    "    output_dir='./results' + pretrained,\n",
    "    num_train_epochs=10,\n",
    "    per_device_train_batch_size=6,\n",
    "    per_device_eval_batch_size=1,\n",
    "    eval_strategy=\"epoch\",\n",
    "    save_strategy=\"epoch\",\n",
    "    save_total_limit=2,\n",
    "    load_best_model_at_end=True,\n",
    "    learning_rate=7e-6,\n",
    "    fp16=True,\n",
    "    logging_dir='./logs' + pretrained,          # Directory to save logs\n",
    "    logging_strategy=\"epoch\",      # Log after each epoch\n",
    ")\n",
    "trainer = Trainer(\n",
    "    model=model,\n",
    "    args=args,\n",
    "    train_dataset=train_dataset,\n",
    "    eval_dataset=val_dataset,\n",
    ")\n",
    "\n",
    "# Train the model\n",
    "trainer.train()"
   ]
  },
  {
   "cell_type": "code",
   "execution_count": 10,
   "metadata": {},
   "outputs": [
    {
     "name": "stderr",
     "output_type": "stream",
     "text": [
      "100%|██████████| 13164/13164 [02:35<00:00, 84.43it/s]\n",
      "100%|██████████| 3762/3762 [00:44<00:00, 85.04it/s]\n",
      "100%|██████████| 1881/1881 [00:22<00:00, 84.48it/s]"
     ]
    },
    {
     "name": "stdout",
     "output_type": "stream",
     "text": [
      "Train loss      : 2.2271463871002197\n",
      "Validation loss : 2.419266700744629\n",
      "Test loss       : 2.460057020187378\n"
     ]
    },
    {
     "name": "stderr",
     "output_type": "stream",
     "text": [
      "\n"
     ]
    }
   ],
   "source": [
    "# Evaluate BLEU score on train dataset\n",
    "\n",
    "model = model.to(\"cuda\")\n",
    "train_results = trainer.evaluate(eval_dataset=train_dataset, metric_key_prefix=\"train\")\n",
    "val_results = trainer.evaluate(eval_dataset=val_dataset, metric_key_prefix=\"val\")\n",
    "test_results = trainer.evaluate(eval_dataset=test_dataset, metric_key_prefix=\"test\")\n",
    "\n",
    "print(f\"Train loss      : {train_results['train_loss']}\")\n",
    "print(f\"Validation loss : {val_results['val_loss']}\")\n",
    "print(f\"Test loss       : {test_results['test_loss']}\")"
   ]
  },
  {
   "cell_type": "code",
   "execution_count": 11,
   "metadata": {},
   "outputs": [
    {
     "name": "stdout",
     "output_type": "stream",
     "text": [
      "Train PPL       : 9.273365690581707\n",
      "Validation PPL  : 11.237615757486884\n",
      "Test PPL        : 11.705478969556387\n"
     ]
    }
   ],
   "source": [
    "import math\n",
    "\n",
    "def calculate_ppl(loss):\n",
    "    return math.exp(loss)\n",
    "\n",
    "train_ppl = calculate_ppl(train_results['train_loss'])\n",
    "val_ppl = calculate_ppl(val_results['val_loss'])\n",
    "test_ppl = calculate_ppl(test_results['test_loss'])\n",
    "\n",
    "print(f\"Train PPL       : {train_ppl}\")\n",
    "print(f\"Validation PPL  : {val_ppl}\")\n",
    "print(f\"Test PPL        : {test_ppl}\")"
   ]
  },
  {
   "cell_type": "code",
   "execution_count": 12,
   "metadata": {},
   "outputs": [
    {
     "data": {
      "image/png": "[encoded data removed]",
      "text/plain": [
       "<Figure size 1200x600 with 1 Axes>"
      ]
     },
     "metadata": {},
     "output_type": "display_data"
    }
   ],
   "source": [
    "# Extract loss values from the log history\n",
    "train_loss_values = [log['loss'] for log in trainer.state.log_history if 'loss' in log]\n",
    "eval_loss_values = [log['eval_loss'] for log in trainer.state.log_history if 'eval_loss' in log]\n",
    "\n",
    "# Plot the loss values\n",
    "plt.figure(figsize=(12, 6))\n",
    "plt.plot(train_loss_values, label='Training Loss', marker='o', linestyle='-', color='b', linewidth=2, markersize=6)\n",
    "plt.plot(eval_loss_values, label='Validation Loss', marker='x', linestyle='--', color='r', linewidth=2, markersize=6)\n",
    "plt.xlabel('Epoch', fontsize=14)\n",
    "plt.ylabel('Loss', fontsize=14)\n",
    "plt.title('Model Loss History', fontsize=16, fontweight='bold')\n",
    "plt.legend(fontsize=12)\n",
    "plt.grid(True, linestyle='--', alpha=0.7)\n",
    "plt.xticks(fontsize=12)\n",
    "plt.yticks(fontsize=12)\n",
    "plt.tight_layout()\n",
    "plt.show()\n"
   ]
  },
  {
   "cell_type": "code",
   "execution_count": 13,
   "metadata": {},
   "outputs": [
    {
     "name": "stderr",
     "output_type": "stream",
     "text": [
      "Setting `pad_token_id` to `eos_token_id`:None for open-end generation.\n"
     ]
    },
    {
     "name": "stdout",
     "output_type": "stream",
     "text": [
      "Input Text       : dont know what to say\n",
      "Generated Text   : dont know what to say about this, but I would like to hear from you. I am looking for any information on the subject. Thank you in advance.\n"
     ]
    }
   ],
   "source": [
    "# Generate text\n",
    "input_text = \"dont know what to say\"\n",
    "input_ids = tokenizer(input_text, return_tensors=\"pt\").input_ids\n",
    "\n",
    "# Generate sequences\n",
    "model = model.to(\"cpu\")\n",
    "output = model.generate(input_ids, max_length=50, num_return_sequences=1, \n",
    "                        attention_mask=tokenizer(input_text, return_tensors=\"pt\").attention_mask, do_sample=True,\n",
    "                        no_repeat_ngram_size=2, top_k=50, top_p=0.95, temperature=0.7, early_stopping=True, num_beams=2)\n",
    "generated_text = tokenizer.decode(output[0], skip_special_tokens=True,)\n",
    "\n",
    "# Print generated text until the first period\n",
    "print(\"Input Text       :\", input_text)\n",
    "print(\"Generated Text   :\", generated_text.rsplit('.', 1)[0] + '.')"
   ]
  }
 ],
 "metadata": {
  "kernelspec": {
   "display_name": "Stable",
   "language": "python",
   "name": "python3"
  },
  "language_info": {
   "codemirror_mode": {
    "name": "ipython",
    "version": 3
   },
   "file_extension": ".py",
   "mimetype": "text/x-python",
   "name": "python",
   "nbconvert_exporter": "python",
   "pygments_lexer": "ipython3",
   "version": "3.9.20"
  }
 },
 "nbformat": 4,
 "nbformat_minor": 2
}
