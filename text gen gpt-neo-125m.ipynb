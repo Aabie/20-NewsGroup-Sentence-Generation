{
 "cells": [
  {
   "cell_type": "code",
   "execution_count": 1,
   "metadata": {},
   "outputs": [
    {
     "name": "stderr",
     "output_type": "stream",
     "text": [
      "c:\\Users\\Axioo Pongo\\anaconda3\\envs\\Stable\\lib\\site-packages\\tqdm\\auto.py:21: TqdmWarning: IProgress not found. Please update jupyter and ipywidgets. See https://ipywidgets.readthedocs.io/en/stable/user_install.html\n",
      "  from .autonotebook import tqdm as notebook_tqdm\n"
     ]
    }
   ],
   "source": [
    "import pandas as pd\n",
    "import seaborn as sns\n",
    "import numpy as np\n",
    "import re\n",
    "import matplotlib.pyplot as plt\n",
    "import string\n",
    "import torch\n",
    "from torch.utils.data import Dataset, DataLoader, random_split, RandomSampler, SequentialSampler\n",
    "torch.manual_seed(42)\n",
    "\n",
    "from transformers import AutoTokenizer, AutoModelForCausalLM, AutoConfig\n",
    "\n",
    "df = pd.read_csv('20newsgroups.csv', names=['Text','Label'], skiprows=1)"
   ]
  },
  {
   "cell_type": "code",
   "execution_count": 2,
   "metadata": {},
   "outputs": [
    {
     "data": {
      "text/html": [
       "<div>\n",
       "<style scoped>\n",
       "    .dataframe tbody tr th:only-of-type {\n",
       "        vertical-align: middle;\n",
       "    }\n",
       "\n",
       "    .dataframe tbody tr th {\n",
       "        vertical-align: top;\n",
       "    }\n",
       "\n",
       "    .dataframe thead th {\n",
       "        text-align: right;\n",
       "    }\n",
       "</style>\n",
       "<table border=\"1\" class=\"dataframe\">\n",
       "  <thead>\n",
       "    <tr style=\"text-align: right;\">\n",
       "      <th></th>\n",
       "      <th>Text</th>\n",
       "      <th>Label</th>\n",
       "    </tr>\n",
       "  </thead>\n",
       "  <tbody>\n",
       "    <tr>\n",
       "      <th>0</th>\n",
       "      <td>From: Mamatha Devineni Ratnam &lt;mr47+@andrew.cm...</td>\n",
       "      <td>10</td>\n",
       "    </tr>\n",
       "    <tr>\n",
       "      <th>1</th>\n",
       "      <td>From: mblawson@midway.ecn.uoknor.edu (Matthew ...</td>\n",
       "      <td>3</td>\n",
       "    </tr>\n",
       "    <tr>\n",
       "      <th>2</th>\n",
       "      <td>From: hilmi-er@dsv.su.se (Hilmi Eren)\\nSubject...</td>\n",
       "      <td>17</td>\n",
       "    </tr>\n",
       "    <tr>\n",
       "      <th>3</th>\n",
       "      <td>From: guyd@austin.ibm.com (Guy Dawson)\\nSubjec...</td>\n",
       "      <td>3</td>\n",
       "    </tr>\n",
       "    <tr>\n",
       "      <th>4</th>\n",
       "      <td>From: Alexander Samuel McDiarmid &lt;am2o+@andrew...</td>\n",
       "      <td>4</td>\n",
       "    </tr>\n",
       "  </tbody>\n",
       "</table>\n",
       "</div>"
      ],
      "text/plain": [
       "                                                Text  Label\n",
       "0  From: Mamatha Devineni Ratnam <mr47+@andrew.cm...     10\n",
       "1  From: mblawson@midway.ecn.uoknor.edu (Matthew ...      3\n",
       "2  From: hilmi-er@dsv.su.se (Hilmi Eren)\\nSubject...     17\n",
       "3  From: guyd@austin.ibm.com (Guy Dawson)\\nSubjec...      3\n",
       "4  From: Alexander Samuel McDiarmid <am2o+@andrew...      4"
      ]
     },
     "execution_count": 2,
     "metadata": {},
     "output_type": "execute_result"
    }
   ],
   "source": [
    "df.head()"
   ]
  },
  {
   "cell_type": "code",
   "execution_count": 3,
   "metadata": {},
   "outputs": [],
   "source": [
    "def simplify_text(email_text):\n",
    "    def extract_body(email_text):\n",
    "        parts = email_text.split('\\n\\n', 1)\n",
    "        if len(parts) > 1:\n",
    "            body = parts[1].strip()\n",
    "            body = re.split(r'\\n--', body, maxsplit=1)[0].strip()\n",
    "            body = body.replace('\\n', ' ')\n",
    "            return body\n",
    "        return email_text\n",
    "\n",
    "    def remove_before_writes(text):\n",
    "        if \"writes:\" in text:\n",
    "            return text.rsplit(\"writes:\",1)[1].strip()\n",
    "        if \"says:\" in text:\n",
    "            return text.rsplit(\"says:\",1)[1].strip()\n",
    "        if \"wrote:\" in text:\n",
    "            return text.rsplit(\"wrote:\",1)[1].strip()\n",
    "        return text\n",
    "\n",
    "    def remove_before_edu(text):\n",
    "        if \".edu,\" in text:\n",
    "            return text.split(\".edu,\")[1].strip()\n",
    "        return text\n",
    "\n",
    "    def clean_repeated_punctuation_and_spaces(text):\n",
    "        cleaned_text = re.sub(r'([.,!?;:-])\\1+', r'\\1', text)\n",
    "        # Replace multiple spaces with a single space\n",
    "        cleaned_text = re.sub(r'\\s+', ' ', cleaned_text)\n",
    "        # Strip leading and trailing spaces\n",
    "        cleaned_text = cleaned_text.strip()\n",
    "        return cleaned_text\n",
    "    \n",
    "    def remove_punctuation(text):\n",
    "        return text.translate(str.maketrans('', '', string.punctuation.replace('.', '').replace(',', '').replace('?', '').replace('!', '')))\n",
    "\n",
    "    def remove_websites_with_specific_domains(text):\n",
    "        website_pattern = r'\\S+(\\.com|\\.edu|\\.org)\\b|\\bwww\\.\\S+?(\\.com|\\.edu|\\.EDU|\\.org)\\b'\n",
    "        # Menghapus URL dari teks\n",
    "        return re.sub(website_pattern, '', text, flags=re.IGNORECASE).strip()\n",
    "    \n",
    "    def remove_punctuation_start(text):\n",
    "        return re.sub(r'^[^\\w\\s]+', '', text)\n",
    "\n",
    "    email_text = extract_body(email_text)\n",
    "    email_text = remove_before_writes(email_text)\n",
    "    email_text = remove_before_edu(email_text)\n",
    "    email_text = remove_punctuation(email_text)\n",
    "    email_text = clean_repeated_punctuation_and_spaces(email_text)\n",
    "    email_text = remove_websites_with_specific_domains(email_text)\n",
    "    email_text = remove_punctuation_start(email_text)\n",
    "    return email_text\n",
    "\n",
    "# Terapkan fungsi simplify_text ke kolom 'Text'\n",
    "df['Text'] = df['Text'].apply(simplify_text)\n",
    "df = df[df['Text'] != ''].drop(columns=['Label'])"
   ]
  },
  {
   "cell_type": "code",
   "execution_count": 4,
   "metadata": {},
   "outputs": [],
   "source": [
    "# doc_lengths = []\n",
    "\n",
    "# for bio in df['Text']:\n",
    "\n",
    "#     # get rough token count distribution\n",
    "#     tokens = nltk.word_tokenize(bio)\n",
    "\n",
    "#     doc_lengths.append(len(tokens))\n",
    "\n",
    "# doc_lengths = np.array(doc_lengths)\n",
    "\n",
    "# plt.figure(figsize=(15, 4))\n",
    "# sns.histplot(doc_lengths, kde=True)\n",
    "# plt.xlabel('Document Length')\n",
    "# plt.ylabel('Frequency')\n",
    "# plt.title('Distribution of Document Lengths')\n",
    "# plt.show()"
   ]
  },
  {
   "cell_type": "code",
   "execution_count": 5,
   "metadata": {},
   "outputs": [],
   "source": [
    "# len(doc_lengths[doc_lengths > 768])/len(doc_lengths)"
   ]
  },
  {
   "cell_type": "code",
   "execution_count": 6,
   "metadata": {},
   "outputs": [],
   "source": [
    "# doc_lengths.mean()"
   ]
  },
  {
   "cell_type": "code",
   "execution_count": 7,
   "metadata": {},
   "outputs": [
    {
     "name": "stderr",
     "output_type": "stream",
     "text": [
      "c:\\Users\\Axioo Pongo\\anaconda3\\envs\\Stable\\lib\\site-packages\\huggingface_hub\\file_download.py:139: UserWarning: `huggingface_hub` cache-system uses symlinks by default to efficiently store duplicated files but your machine does not support them in C:\\Users\\Axioo Pongo\\.cache\\huggingface\\hub\\models--EleutherAI--gpt-neo-125m. Caching files will still work but in a degraded version that might require more space on your disk. This warning can be disabled by setting the `HF_HUB_DISABLE_SYMLINKS_WARNING` environment variable. For more details, see https://huggingface.co/docs/huggingface_hub/how-to-cache#limitations.\n",
      "To support symlinks on Windows, you either need to activate Developer Mode or to run Python as an administrator. In order to activate developer mode, see this article: https://docs.microsoft.com/en-us/windows/apps/get-started/enable-your-device-for-development\n",
      "  warnings.warn(message)\n",
      "Map: 100%|██████████| 18807/18807 [00:03<00:00, 5757.95 examples/s]\n"
     ]
    }
   ],
   "source": [
    "from datasets import Dataset\n",
    "df = Dataset.from_pandas(df)\n",
    "\n",
    "pretrained = 'EleutherAI/gpt-neo-125m'\n",
    "config = AutoConfig.from_pretrained(pretrained)\n",
    "model = AutoModelForCausalLM.from_pretrained(pretrained, config=config)\n",
    "tokenizer = AutoTokenizer.from_pretrained(pretrained)\n",
    "tokenizer.pad_token = tokenizer.eos_token\n",
    "\n",
    "def tokenize_function(examples):\n",
    "    tokenized = tokenizer(\n",
    "        examples[\"Text\"], \n",
    "        padding=\"max_length\", \n",
    "        truncation=True, \n",
    "        max_length=256,\n",
    "        return_tensors=\"pt\" )\n",
    "\n",
    "    tokenized[\"labels\"] = tokenized[\"input_ids\"].clone()\n",
    "\n",
    "    return tokenized\n",
    "\n",
    "# Tokenize the dataset\n",
    "tokenized_dataset = df.map(tokenize_function, batched=True)\n",
    "tokenized_dataset.set_format(type=\"torch\", columns=[\"input_ids\", \"attention_mask\", \"labels\"])"
   ]
  },
  {
   "cell_type": "code",
   "execution_count": 8,
   "metadata": {},
   "outputs": [
    {
     "name": "stdout",
     "output_type": "stream",
     "text": [
      "Train dataset size: 13164\n",
      "Validation dataset size: 3762\n",
      "Test dataset size: 1881\n"
     ]
    }
   ],
   "source": [
    "split_datasets = tokenized_dataset.train_test_split(test_size=0.2, seed=42)\n",
    "\n",
    "train_val_split = split_datasets[\"train\"].train_test_split(test_size=0.125, seed=42)  # 0.125 = 10% dari keseluruhan data\n",
    "\n",
    "train_dataset = train_val_split[\"train\"]\n",
    "val_dataset = split_datasets[\"test\"]\n",
    "test_dataset = train_val_split[\"test\"]\n",
    "\n",
    "print(f\"Train dataset size: {len(train_dataset)}\")\n",
    "print(f\"Validation dataset size: {len(val_dataset)}\")\n",
    "print(f\"Test dataset size: {len(test_dataset)}\")"
   ]
  },
  {
   "cell_type": "code",
   "execution_count": 9,
   "metadata": {},
   "outputs": [
    {
     "name": "stderr",
     "output_type": "stream",
     "text": [
      " 10%|█         | 1097/10970 [06:30<1:00:01,  2.74it/s]"
     ]
    },
    {
     "name": "stdout",
     "output_type": "stream",
     "text": [
      "{'loss': 2.6168, 'grad_norm': 2.1803090572357178, 'learning_rate': 9.003646308113036e-06, 'epoch': 1.0}\n"
     ]
    },
    {
     "name": "stderr",
     "output_type": "stream",
     "text": [
      "                                                      \n",
      " 10%|█         | 1097/10970 [07:35<1:00:01,  2.74it/s]"
     ]
    },
    {
     "name": "stdout",
     "output_type": "stream",
     "text": [
      "{'eval_loss': 2.5064589977264404, 'eval_runtime': 65.4066, 'eval_samples_per_second': 57.517, 'eval_steps_per_second': 57.517, 'epoch': 1.0}\n"
     ]
    },
    {
     "name": "stderr",
     "output_type": "stream",
     "text": [
      " 20%|██        | 2194/10970 [14:13<53:43,  2.72it/s]   "
     ]
    },
    {
     "name": "stdout",
     "output_type": "stream",
     "text": [
      "{'loss': 2.4618, 'grad_norm': 1.7118866443634033, 'learning_rate': 8.003646308113037e-06, 'epoch': 2.0}\n"
     ]
    },
    {
     "name": "stderr",
     "output_type": "stream",
     "text": [
      "                                                    \n",
      " 20%|██        | 2194/10970 [15:19<53:43,  2.72it/s]"
     ]
    },
    {
     "name": "stdout",
     "output_type": "stream",
     "text": [
      "{'eval_loss': 2.469975233078003, 'eval_runtime': 66.6782, 'eval_samples_per_second': 56.42, 'eval_steps_per_second': 56.42, 'epoch': 2.0}\n"
     ]
    },
    {
     "name": "stderr",
     "output_type": "stream",
     "text": [
      " 30%|███       | 3291/10970 [21:58<46:05,  2.78it/s]   "
     ]
    },
    {
     "name": "stdout",
     "output_type": "stream",
     "text": [
      "{'loss': 2.4024, 'grad_norm': 1.9296928644180298, 'learning_rate': 7.003646308113036e-06, 'epoch': 3.0}\n"
     ]
    },
    {
     "name": "stderr",
     "output_type": "stream",
     "text": [
      "                                                    \n",
      " 30%|███       | 3291/10970 [23:03<46:05,  2.78it/s]"
     ]
    },
    {
     "name": "stdout",
     "output_type": "stream",
     "text": [
      "{'eval_loss': 2.4487814903259277, 'eval_runtime': 65.2027, 'eval_samples_per_second': 57.697, 'eval_steps_per_second': 57.697, 'epoch': 3.0}\n"
     ]
    },
    {
     "name": "stderr",
     "output_type": "stream",
     "text": [
      " 40%|████      | 4388/10970 [29:42<39:55,  2.75it/s]   "
     ]
    },
    {
     "name": "stdout",
     "output_type": "stream",
     "text": [
      "{'loss': 2.3575, 'grad_norm': 2.11039662361145, 'learning_rate': 6.003646308113036e-06, 'epoch': 4.0}\n"
     ]
    },
    {
     "name": "stderr",
     "output_type": "stream",
     "text": [
      "                                                    \n",
      " 40%|████      | 4388/10970 [30:48<39:55,  2.75it/s]"
     ]
    },
    {
     "name": "stdout",
     "output_type": "stream",
     "text": [
      "{'eval_loss': 2.433107376098633, 'eval_runtime': 66.3703, 'eval_samples_per_second': 56.682, 'eval_steps_per_second': 56.682, 'epoch': 4.0}\n"
     ]
    },
    {
     "name": "stderr",
     "output_type": "stream",
     "text": [
      " 50%|█████     | 5485/10970 [37:28<32:59,  2.77it/s]   "
     ]
    },
    {
     "name": "stdout",
     "output_type": "stream",
     "text": [
      "{'loss': 2.3211, 'grad_norm': 1.9702569246292114, 'learning_rate': 5.003646308113036e-06, 'epoch': 5.0}\n"
     ]
    },
    {
     "name": "stderr",
     "output_type": "stream",
     "text": [
      "                                                    \n",
      " 50%|█████     | 5485/10970 [38:34<32:59,  2.77it/s]"
     ]
    },
    {
     "name": "stdout",
     "output_type": "stream",
     "text": [
      "{'eval_loss': 2.4233670234680176, 'eval_runtime': 66.5054, 'eval_samples_per_second': 56.567, 'eval_steps_per_second': 56.567, 'epoch': 5.0}\n"
     ]
    },
    {
     "name": "stderr",
     "output_type": "stream",
     "text": [
      " 60%|██████    | 6582/10970 [45:13<26:22,  2.77it/s]   "
     ]
    },
    {
     "name": "stdout",
     "output_type": "stream",
     "text": [
      "{'loss': 2.2923, 'grad_norm': 1.7975871562957764, 'learning_rate': 4.004557885141295e-06, 'epoch': 6.0}\n"
     ]
    },
    {
     "name": "stderr",
     "output_type": "stream",
     "text": [
      "                                                    \n",
      " 60%|██████    | 6582/10970 [46:19<26:22,  2.77it/s]"
     ]
    },
    {
     "name": "stdout",
     "output_type": "stream",
     "text": [
      "{'eval_loss': 2.415748357772827, 'eval_runtime': 66.2492, 'eval_samples_per_second': 56.786, 'eval_steps_per_second': 56.786, 'epoch': 6.0}\n"
     ]
    },
    {
     "name": "stderr",
     "output_type": "stream",
     "text": [
      " 70%|███████   | 7679/10970 [52:58<19:52,  2.76it/s]   "
     ]
    },
    {
     "name": "stdout",
     "output_type": "stream",
     "text": [
      "{'loss': 2.269, 'grad_norm': 1.936287760734558, 'learning_rate': 3.004557885141295e-06, 'epoch': 7.0}\n"
     ]
    },
    {
     "name": "stderr",
     "output_type": "stream",
     "text": [
      "                                                    \n",
      " 70%|███████   | 7679/10970 [54:04<19:52,  2.76it/s]"
     ]
    },
    {
     "name": "stdout",
     "output_type": "stream",
     "text": [
      "{'eval_loss': 2.410916328430176, 'eval_runtime': 66.0803, 'eval_samples_per_second': 56.931, 'eval_steps_per_second': 56.931, 'epoch': 7.0}\n"
     ]
    },
    {
     "name": "stderr",
     "output_type": "stream",
     "text": [
      " 80%|████████  | 8776/10970 [1:00:43<13:12,  2.77it/s] "
     ]
    },
    {
     "name": "stdout",
     "output_type": "stream",
     "text": [
      "{'loss': 2.2513, 'grad_norm': 1.8988652229309082, 'learning_rate': 2.0045578851412947e-06, 'epoch': 8.0}\n"
     ]
    },
    {
     "name": "stderr",
     "output_type": "stream",
     "text": [
      "                                                      \n",
      " 80%|████████  | 8776/10970 [1:01:48<13:12,  2.77it/s]"
     ]
    },
    {
     "name": "stdout",
     "output_type": "stream",
     "text": [
      "{'eval_loss': 2.4071648120880127, 'eval_runtime': 65.8806, 'eval_samples_per_second': 57.103, 'eval_steps_per_second': 57.103, 'epoch': 8.0}\n"
     ]
    },
    {
     "name": "stderr",
     "output_type": "stream",
     "text": [
      " 90%|█████████ | 9873/10970 [1:08:27<06:35,  2.77it/s]   "
     ]
    },
    {
     "name": "stdout",
     "output_type": "stream",
     "text": [
      "{'loss': 2.2388, 'grad_norm': 1.8194315433502197, 'learning_rate': 1.0045578851412945e-06, 'epoch': 9.0}\n"
     ]
    },
    {
     "name": "stderr",
     "output_type": "stream",
     "text": [
      "                                                      \n",
      " 90%|█████████ | 9873/10970 [1:09:33<06:35,  2.77it/s]"
     ]
    },
    {
     "name": "stdout",
     "output_type": "stream",
     "text": [
      "{'eval_loss': 2.4054057598114014, 'eval_runtime': 66.1403, 'eval_samples_per_second': 56.879, 'eval_steps_per_second': 56.879, 'epoch': 9.0}\n"
     ]
    },
    {
     "name": "stderr",
     "output_type": "stream",
     "text": [
      "100%|██████████| 10970/10970 [1:16:14<00:00,  2.77it/s] "
     ]
    },
    {
     "name": "stdout",
     "output_type": "stream",
     "text": [
      "{'loss': 2.2311, 'grad_norm': 1.8621389865875244, 'learning_rate': 4.557885141294439e-09, 'epoch': 10.0}\n"
     ]
    },
    {
     "name": "stderr",
     "output_type": "stream",
     "text": [
      "                                                       \n",
      "100%|██████████| 10970/10970 [1:17:20<00:00,  2.77it/s]"
     ]
    },
    {
     "name": "stdout",
     "output_type": "stream",
     "text": [
      "{'eval_loss': 2.4050095081329346, 'eval_runtime': 66.6018, 'eval_samples_per_second': 56.485, 'eval_steps_per_second': 56.485, 'epoch': 10.0}\n"
     ]
    },
    {
     "name": "stderr",
     "output_type": "stream",
     "text": [
      "There were missing keys in the checkpoint model loaded: ['lm_head.weight'].\n",
      "100%|██████████| 10970/10970 [1:17:22<00:00,  2.36it/s]"
     ]
    },
    {
     "name": "stdout",
     "output_type": "stream",
     "text": [
      "{'train_runtime': 4642.852, 'train_samples_per_second': 28.353, 'train_steps_per_second': 2.363, 'train_loss': 2.3441988671162832, 'epoch': 10.0}\n"
     ]
    },
    {
     "name": "stderr",
     "output_type": "stream",
     "text": [
      "\n"
     ]
    },
    {
     "data": {
      "text/plain": [
       "TrainOutput(global_step=10970, training_loss=2.3441988671162832, metrics={'train_runtime': 4642.852, 'train_samples_per_second': 28.353, 'train_steps_per_second': 2.363, 'total_flos': 1.719265114718208e+16, 'train_loss': 2.3441988671162832, 'epoch': 10.0})"
      ]
     },
     "execution_count": 9,
     "metadata": {},
     "output_type": "execute_result"
    }
   ],
   "source": [
    "from transformers import Trainer, TrainingArguments\n",
    "\n",
    "# Define training arguments\n",
    "args = TrainingArguments(\n",
    "    output_dir='./results neo',\n",
    "    num_train_epochs=10,\n",
    "    per_device_train_batch_size=12,\n",
    "    per_device_eval_batch_size=1,\n",
    "    eval_strategy=\"epoch\",\n",
    "    save_strategy=\"epoch\",\n",
    "    save_total_limit=2,\n",
    "    load_best_model_at_end=True,\n",
    "    learning_rate=1e-5,\n",
    "    fp16=True,\n",
    "    logging_dir='./logs neo',          # Directory to save logs\n",
    "    logging_strategy=\"epoch\",      # Log after each epoch\n",
    ")\n",
    "trainer = Trainer(\n",
    "    model=model,\n",
    "    args=args,\n",
    "    train_dataset=train_dataset,\n",
    "    eval_dataset=val_dataset,\n",
    ")\n",
    "\n",
    "# Train the model\n",
    "trainer.train()"
   ]
  },
  {
   "cell_type": "code",
   "execution_count": 10,
   "metadata": {},
   "outputs": [
    {
     "name": "stderr",
     "output_type": "stream",
     "text": [
      "100%|██████████| 13164/13164 [03:55<00:00, 55.95it/s]\n",
      "100%|██████████| 3762/3762 [01:07<00:00, 55.62it/s]\n",
      "100%|██████████| 1881/1881 [00:34<00:00, 55.06it/s]"
     ]
    },
    {
     "name": "stdout",
     "output_type": "stream",
     "text": [
      "Train loss      : 2.2284820079803467\n",
      "Validation loss : 2.4050095081329346\n",
      "Test loss       : 2.444209337234497\n"
     ]
    },
    {
     "name": "stderr",
     "output_type": "stream",
     "text": [
      "\n"
     ]
    }
   ],
   "source": [
    "# Evaluate BLEU score on train dataset\n",
    "\n",
    "model = model.to(\"cuda\")\n",
    "train_results = trainer.evaluate(eval_dataset=train_dataset, metric_key_prefix=\"train\")\n",
    "val_results = trainer.evaluate(eval_dataset=val_dataset, metric_key_prefix=\"val\")\n",
    "test_results = trainer.evaluate(eval_dataset=test_dataset, metric_key_prefix=\"test\")\n",
    "\n",
    "print(f\"Train loss      : {train_results['train_loss']}\")\n",
    "print(f\"Validation loss : {val_results['val_loss']}\")\n",
    "print(f\"Test loss       : {test_results['test_loss']}\")"
   ]
  },
  {
   "cell_type": "code",
   "execution_count": 11,
   "metadata": {},
   "outputs": [
    {
     "name": "stdout",
     "output_type": "stream",
     "text": [
      "Train PPL       : 9.285759666411103\n",
      "Validation PPL  : 11.078535617875026\n",
      "Test PPL        : 11.521436425803318\n"
     ]
    }
   ],
   "source": [
    "import math\n",
    "\n",
    "def calculate_ppl(loss):\n",
    "    return math.exp(loss)\n",
    "\n",
    "train_ppl = calculate_ppl(train_results['train_loss'])\n",
    "val_ppl = calculate_ppl(val_results['val_loss'])\n",
    "test_ppl = calculate_ppl(test_results['test_loss'])\n",
    "\n",
    "print(f\"Train PPL       : {train_ppl}\")\n",
    "print(f\"Validation PPL  : {val_ppl}\")\n",
    "print(f\"Test PPL        : {test_ppl}\")"
   ]
  },
  {
   "cell_type": "code",
   "execution_count": 12,
   "metadata": {},
   "outputs": [
    {
     "data": {
      "image/png": "[encoded data removed]",
      "text/plain": [
       "<Figure size 1200x600 with 1 Axes>"
      ]
     },
     "metadata": {},
     "output_type": "display_data"
    }
   ],
   "source": [
    "# Extract loss values from the log history\n",
    "train_loss_values = [log['loss'] for log in trainer.state.log_history if 'loss' in log]\n",
    "eval_loss_values = [log['eval_loss'] for log in trainer.state.log_history if 'eval_loss' in log]\n",
    "\n",
    "# Plot the loss values\n",
    "plt.figure(figsize=(12, 6))\n",
    "plt.plot(train_loss_values, label='Training Loss', marker='o', linestyle='-', color='b', linewidth=2, markersize=6)\n",
    "plt.plot(eval_loss_values, label='Validation Loss', marker='x', linestyle='--', color='r', linewidth=2, markersize=6)\n",
    "plt.xlabel('Epoch', fontsize=14)\n",
    "plt.ylabel('Loss', fontsize=14)\n",
    "plt.title('Model Loss History', fontsize=16, fontweight='bold')\n",
    "plt.legend(fontsize=12)\n",
    "plt.grid(True, linestyle='--', alpha=0.7)\n",
    "plt.xticks(fontsize=12)\n",
    "plt.yticks(fontsize=12)\n",
    "plt.tight_layout()\n",
    "plt.show()\n"
   ]
  },
  {
   "cell_type": "code",
   "execution_count": 13,
   "metadata": {},
   "outputs": [
    {
     "name": "stderr",
     "output_type": "stream",
     "text": [
      "Setting `pad_token_id` to `eos_token_id`:None for open-end generation.\n"
     ]
    },
    {
     "name": "stdout",
     "output_type": "stream",
     "text": [
      "Input Text       : dont know what to say\n",
      "Generated Text   : dont know what to say. I dont think that you should be trying to get into the middle of something that has nothing to do with the subject of this thread.\n"
     ]
    }
   ],
   "source": [
    "# Generate text\n",
    "input_text = \"dont know what to say\"\n",
    "input_ids = tokenizer(input_text, return_tensors=\"pt\").input_ids\n",
    "\n",
    "# Generate sequences\n",
    "model = model.to(\"cpu\")\n",
    "output = model.generate(input_ids, max_length=50, num_return_sequences=1, \n",
    "                        attention_mask=tokenizer(input_text, return_tensors=\"pt\").attention_mask, do_sample=True,\n",
    "                        no_repeat_ngram_size=2, top_k=50, top_p=0.95, temperature=0.7, early_stopping=True, num_beams=2)\n",
    "generated_text = tokenizer.decode(output[0], skip_special_tokens=True,)\n",
    "\n",
    "# Print generated text until the first period\n",
    "print(\"Input Text       :\", input_text)\n",
    "print(\"Generated Text   :\", generated_text.rsplit('.', 1)[0] + '.')"
   ]
  }
 ],
 "metadata": {
  "kernelspec": {
   "display_name": "Stable",
   "language": "python",
   "name": "python3"
  },
  "language_info": {
   "codemirror_mode": {
    "name": "ipython",
    "version": 3
   },
   "file_extension": ".py",
   "mimetype": "text/x-python",
   "name": "python",
   "nbconvert_exporter": "python",
   "pygments_lexer": "ipython3",
   "version": "3.9.20"
  }
 },
 "nbformat": 4,
 "nbformat_minor": 2
}
